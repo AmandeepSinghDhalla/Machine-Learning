{
 "cells": [
  {
   "cell_type": "markdown",
   "metadata": {},
   "source": [
    "# Census Income Project\n",
    "## Problem Statement:\n",
    "This data was extracted from the 1994 Census bureau database by Ronny Kohavi and Barry Becker (Data Mining and Visualization, Silicon Graphics). A set of reasonably clean records was extracted using the following conditions: ((AAGE>16) && (AGI>100) && (AFNLWGT>1) && (HRSWK>0)). ***The prediction task is to determine whether a person makes over $50K a year.***\n",
    "\n",
    "## Description of fnlwgt (final weight)\n",
    "The weights on the Current Population Survey (CPS) files are controlled to independent estimates of the civilian non-institutional population of the US. These are prepared monthly for us by Population Division here at the Census Bureau. We use 3 sets of controls. These are:\n",
    "\n",
    "1. A single cell estimate of the population 16+ for each state.\n",
    "2. Controls for Hispanic Origin by age and sex.\n",
    "3. Controls by Race, age and sex.\n",
    "\n",
    "Columns:\n",
    "1. age: continuous.\n",
    "2. workclass: Private, Self-emp-not-inc, Self-emp-inc, Federal-gov, Local-gov, State-gov, Without-pay, Never-worked.\n",
    "3. fnlwgt: continuous.\n",
    "4. education: Bachelors, Some-college, 11th, HS-grad, Prof-school, Assoc-acdm, Assoc-voc, 9th, 7th-8th, 12th, Masters, 1st-4th, 10th, Doctorate, 5th-6th, Preschool.\n",
    "5. education-num: continuous.\n",
    "6. marital-status: Married-civ-spouse, Divorced, Never-married, Separated, Widowed, Married-spouse-absent, Married-AF-spouse.\n",
    "7. occupation: Tech-support, Craft-repair, Other-service, Sales, Exec-managerial, Prof-specialty, Handlers-cleaners, Machine-op-inspct, Adm-clerical, Farming-fishing, Transport-moving, Priv-house-serv, Protective-serv, Armed-Forces.\n",
    "8. relationship: Wife, Own-child, Husband, Not-in-family, Other-relative, Unmarried.\n",
    "9. race: White, Asian-Pac-Islander, Amer-Indian-Eskimo, Other, Black.\n",
    "10. sex: Female, Male.\n",
    "11. capital-gain: continuous.\n",
    "12. capital-loss: continuous.\n",
    "13. hours-per-week: continuous.\n",
    "14. native-country: United-States, Cambodia, England, Puerto-Rico, Canada, Germany, Outlying-US(Guam-USVI-etc), India, Japan, Greece, South, China, Cuba, Iran, Honduras, Philippines, Italy, Poland, Jamaica, Vietnam, Mexico, Portugal, Ireland, France, Dominican-Republic, Laos, Ecuador, Taiwan, Haiti, Columbia, Hungary, Guatemala, Nicaragua, Scotland, Thailand, Yugoslavia, El-Salvador, Trinadad&Tobago, Peru, Hong, Holand-Netherlands.\n",
    "\n",
    "We use all three sets of controls in our weighting program and \"rake\" through them 6 times so that by the end we come back to all the controls we used. The term estimate refers to population totals derived from CPS by creating \"weighted tallies\" of any specified socio-economic characteristics of the population. People with similar demographic characteristics should have similar weights. There is one important caveat to remember about this statement. That is that since the CPS sample is actually a collection of 51 state samples, each with its own probability of selection, the statement only applies within state.\n",
    "\n",
    "\n",
    "\n",
    "To download the dataset, use the link given below. \n",
    "\n",
    "Downlaod Files:\n",
    "https://raw.githubusercontent.com/dsrscientist/dataset1/master/census_income.csv\n",
    "![](https://miro.medium.com/max/2400/1*IH10jlQEJ7GW1_oq8s7WPw.png)"
   ]
  },
  {
   "cell_type": "code",
   "execution_count": 1,
   "metadata": {},
   "outputs": [],
   "source": [
    "'''Importing Important libraries'''\n",
    "import pandas as pd\n",
    "import numpy as np\n",
    "import matplotlib.pyplot as plt\n",
    "import seaborn as sns\n",
    "import plotly.express as px\n",
    "import warnings\n",
    "warnings.filterwarnings('ignore')"
   ]
  },
  {
   "cell_type": "code",
   "execution_count": 2,
   "metadata": {},
   "outputs": [
    {
     "data": {
      "text/html": [
       "<div>\n",
       "<style scoped>\n",
       "    .dataframe tbody tr th:only-of-type {\n",
       "        vertical-align: middle;\n",
       "    }\n",
       "\n",
       "    .dataframe tbody tr th {\n",
       "        vertical-align: top;\n",
       "    }\n",
       "\n",
       "    .dataframe thead th {\n",
       "        text-align: right;\n",
       "    }\n",
       "</style>\n",
       "<table border=\"1\" class=\"dataframe\">\n",
       "  <thead>\n",
       "    <tr style=\"text-align: right;\">\n",
       "      <th></th>\n",
       "      <th>Age</th>\n",
       "      <th>Workclass</th>\n",
       "      <th>Fnlwgt</th>\n",
       "      <th>Education</th>\n",
       "      <th>Education_num</th>\n",
       "      <th>Marital_status</th>\n",
       "      <th>Occupation</th>\n",
       "      <th>Relationship</th>\n",
       "      <th>Race</th>\n",
       "      <th>Sex</th>\n",
       "      <th>Capital_gain</th>\n",
       "      <th>Capital_loss</th>\n",
       "      <th>Hours_per_week</th>\n",
       "      <th>Native_country</th>\n",
       "      <th>Income</th>\n",
       "    </tr>\n",
       "  </thead>\n",
       "  <tbody>\n",
       "    <tr>\n",
       "      <th>0</th>\n",
       "      <td>50</td>\n",
       "      <td>Self-emp-not-inc</td>\n",
       "      <td>83311</td>\n",
       "      <td>Bachelors</td>\n",
       "      <td>13</td>\n",
       "      <td>Married-civ-spouse</td>\n",
       "      <td>Exec-managerial</td>\n",
       "      <td>Husband</td>\n",
       "      <td>White</td>\n",
       "      <td>Male</td>\n",
       "      <td>0</td>\n",
       "      <td>0</td>\n",
       "      <td>13</td>\n",
       "      <td>United-States</td>\n",
       "      <td>&lt;=50K</td>\n",
       "    </tr>\n",
       "    <tr>\n",
       "      <th>1</th>\n",
       "      <td>38</td>\n",
       "      <td>Private</td>\n",
       "      <td>215646</td>\n",
       "      <td>HS-grad</td>\n",
       "      <td>9</td>\n",
       "      <td>Divorced</td>\n",
       "      <td>Handlers-cleaners</td>\n",
       "      <td>Not-in-family</td>\n",
       "      <td>White</td>\n",
       "      <td>Male</td>\n",
       "      <td>0</td>\n",
       "      <td>0</td>\n",
       "      <td>40</td>\n",
       "      <td>United-States</td>\n",
       "      <td>&lt;=50K</td>\n",
       "    </tr>\n",
       "    <tr>\n",
       "      <th>2</th>\n",
       "      <td>53</td>\n",
       "      <td>Private</td>\n",
       "      <td>234721</td>\n",
       "      <td>11th</td>\n",
       "      <td>7</td>\n",
       "      <td>Married-civ-spouse</td>\n",
       "      <td>Handlers-cleaners</td>\n",
       "      <td>Husband</td>\n",
       "      <td>Black</td>\n",
       "      <td>Male</td>\n",
       "      <td>0</td>\n",
       "      <td>0</td>\n",
       "      <td>40</td>\n",
       "      <td>United-States</td>\n",
       "      <td>&lt;=50K</td>\n",
       "    </tr>\n",
       "    <tr>\n",
       "      <th>3</th>\n",
       "      <td>28</td>\n",
       "      <td>Private</td>\n",
       "      <td>338409</td>\n",
       "      <td>Bachelors</td>\n",
       "      <td>13</td>\n",
       "      <td>Married-civ-spouse</td>\n",
       "      <td>Prof-specialty</td>\n",
       "      <td>Wife</td>\n",
       "      <td>Black</td>\n",
       "      <td>Female</td>\n",
       "      <td>0</td>\n",
       "      <td>0</td>\n",
       "      <td>40</td>\n",
       "      <td>Cuba</td>\n",
       "      <td>&lt;=50K</td>\n",
       "    </tr>\n",
       "    <tr>\n",
       "      <th>4</th>\n",
       "      <td>37</td>\n",
       "      <td>Private</td>\n",
       "      <td>284582</td>\n",
       "      <td>Masters</td>\n",
       "      <td>14</td>\n",
       "      <td>Married-civ-spouse</td>\n",
       "      <td>Exec-managerial</td>\n",
       "      <td>Wife</td>\n",
       "      <td>White</td>\n",
       "      <td>Female</td>\n",
       "      <td>0</td>\n",
       "      <td>0</td>\n",
       "      <td>40</td>\n",
       "      <td>United-States</td>\n",
       "      <td>&lt;=50K</td>\n",
       "    </tr>\n",
       "    <tr>\n",
       "      <th>...</th>\n",
       "      <td>...</td>\n",
       "      <td>...</td>\n",
       "      <td>...</td>\n",
       "      <td>...</td>\n",
       "      <td>...</td>\n",
       "      <td>...</td>\n",
       "      <td>...</td>\n",
       "      <td>...</td>\n",
       "      <td>...</td>\n",
       "      <td>...</td>\n",
       "      <td>...</td>\n",
       "      <td>...</td>\n",
       "      <td>...</td>\n",
       "      <td>...</td>\n",
       "      <td>...</td>\n",
       "    </tr>\n",
       "    <tr>\n",
       "      <th>32555</th>\n",
       "      <td>27</td>\n",
       "      <td>Private</td>\n",
       "      <td>257302</td>\n",
       "      <td>Assoc-acdm</td>\n",
       "      <td>12</td>\n",
       "      <td>Married-civ-spouse</td>\n",
       "      <td>Tech-support</td>\n",
       "      <td>Wife</td>\n",
       "      <td>White</td>\n",
       "      <td>Female</td>\n",
       "      <td>0</td>\n",
       "      <td>0</td>\n",
       "      <td>38</td>\n",
       "      <td>United-States</td>\n",
       "      <td>&lt;=50K</td>\n",
       "    </tr>\n",
       "    <tr>\n",
       "      <th>32556</th>\n",
       "      <td>40</td>\n",
       "      <td>Private</td>\n",
       "      <td>154374</td>\n",
       "      <td>HS-grad</td>\n",
       "      <td>9</td>\n",
       "      <td>Married-civ-spouse</td>\n",
       "      <td>Machine-op-inspct</td>\n",
       "      <td>Husband</td>\n",
       "      <td>White</td>\n",
       "      <td>Male</td>\n",
       "      <td>0</td>\n",
       "      <td>0</td>\n",
       "      <td>40</td>\n",
       "      <td>United-States</td>\n",
       "      <td>&gt;50K</td>\n",
       "    </tr>\n",
       "    <tr>\n",
       "      <th>32557</th>\n",
       "      <td>58</td>\n",
       "      <td>Private</td>\n",
       "      <td>151910</td>\n",
       "      <td>HS-grad</td>\n",
       "      <td>9</td>\n",
       "      <td>Widowed</td>\n",
       "      <td>Adm-clerical</td>\n",
       "      <td>Unmarried</td>\n",
       "      <td>White</td>\n",
       "      <td>Female</td>\n",
       "      <td>0</td>\n",
       "      <td>0</td>\n",
       "      <td>40</td>\n",
       "      <td>United-States</td>\n",
       "      <td>&lt;=50K</td>\n",
       "    </tr>\n",
       "    <tr>\n",
       "      <th>32558</th>\n",
       "      <td>22</td>\n",
       "      <td>Private</td>\n",
       "      <td>201490</td>\n",
       "      <td>HS-grad</td>\n",
       "      <td>9</td>\n",
       "      <td>Never-married</td>\n",
       "      <td>Adm-clerical</td>\n",
       "      <td>Own-child</td>\n",
       "      <td>White</td>\n",
       "      <td>Male</td>\n",
       "      <td>0</td>\n",
       "      <td>0</td>\n",
       "      <td>20</td>\n",
       "      <td>United-States</td>\n",
       "      <td>&lt;=50K</td>\n",
       "    </tr>\n",
       "    <tr>\n",
       "      <th>32559</th>\n",
       "      <td>52</td>\n",
       "      <td>Self-emp-inc</td>\n",
       "      <td>287927</td>\n",
       "      <td>HS-grad</td>\n",
       "      <td>9</td>\n",
       "      <td>Married-civ-spouse</td>\n",
       "      <td>Exec-managerial</td>\n",
       "      <td>Wife</td>\n",
       "      <td>White</td>\n",
       "      <td>Female</td>\n",
       "      <td>15024</td>\n",
       "      <td>0</td>\n",
       "      <td>40</td>\n",
       "      <td>United-States</td>\n",
       "      <td>&gt;50K</td>\n",
       "    </tr>\n",
       "  </tbody>\n",
       "</table>\n",
       "<p>32560 rows × 15 columns</p>\n",
       "</div>"
      ],
      "text/plain": [
       "       Age          Workclass  Fnlwgt    Education  Education_num  \\\n",
       "0       50   Self-emp-not-inc   83311    Bachelors             13   \n",
       "1       38            Private  215646      HS-grad              9   \n",
       "2       53            Private  234721         11th              7   \n",
       "3       28            Private  338409    Bachelors             13   \n",
       "4       37            Private  284582      Masters             14   \n",
       "...    ...                ...     ...          ...            ...   \n",
       "32555   27            Private  257302   Assoc-acdm             12   \n",
       "32556   40            Private  154374      HS-grad              9   \n",
       "32557   58            Private  151910      HS-grad              9   \n",
       "32558   22            Private  201490      HS-grad              9   \n",
       "32559   52       Self-emp-inc  287927      HS-grad              9   \n",
       "\n",
       "            Marital_status          Occupation    Relationship    Race  \\\n",
       "0       Married-civ-spouse     Exec-managerial         Husband   White   \n",
       "1                 Divorced   Handlers-cleaners   Not-in-family   White   \n",
       "2       Married-civ-spouse   Handlers-cleaners         Husband   Black   \n",
       "3       Married-civ-spouse      Prof-specialty            Wife   Black   \n",
       "4       Married-civ-spouse     Exec-managerial            Wife   White   \n",
       "...                    ...                 ...             ...     ...   \n",
       "32555   Married-civ-spouse        Tech-support            Wife   White   \n",
       "32556   Married-civ-spouse   Machine-op-inspct         Husband   White   \n",
       "32557              Widowed        Adm-clerical       Unmarried   White   \n",
       "32558        Never-married        Adm-clerical       Own-child   White   \n",
       "32559   Married-civ-spouse     Exec-managerial            Wife   White   \n",
       "\n",
       "           Sex  Capital_gain  Capital_loss  Hours_per_week  Native_country  \\\n",
       "0         Male             0             0              13   United-States   \n",
       "1         Male             0             0              40   United-States   \n",
       "2         Male             0             0              40   United-States   \n",
       "3       Female             0             0              40            Cuba   \n",
       "4       Female             0             0              40   United-States   \n",
       "...        ...           ...           ...             ...             ...   \n",
       "32555   Female             0             0              38   United-States   \n",
       "32556     Male             0             0              40   United-States   \n",
       "32557   Female             0             0              40   United-States   \n",
       "32558     Male             0             0              20   United-States   \n",
       "32559   Female         15024             0              40   United-States   \n",
       "\n",
       "       Income  \n",
       "0       <=50K  \n",
       "1       <=50K  \n",
       "2       <=50K  \n",
       "3       <=50K  \n",
       "4       <=50K  \n",
       "...       ...  \n",
       "32555   <=50K  \n",
       "32556    >50K  \n",
       "32557   <=50K  \n",
       "32558   <=50K  \n",
       "32559    >50K  \n",
       "\n",
       "[32560 rows x 15 columns]"
      ]
     },
     "execution_count": 2,
     "metadata": {},
     "output_type": "execute_result"
    }
   ],
   "source": [
    "data = pd.read_csv(\"https://raw.githubusercontent.com/dsrscientist/dataset1/master/census_income.csv\")\n",
    "data"
   ]
  },
  {
   "cell_type": "markdown",
   "metadata": {},
   "source": [
    "![](https://kiarofoods.com/wp-content/uploads/2019/10/line_break.png)"
   ]
  },
  {
   "cell_type": "markdown",
   "metadata": {},
   "source": [
    "# Exploratory Data Analysis:\n",
    "**Problem Type Identification:** We have the target variable available with us. So, it a supervised machine learning problem. First we try to find out the type of supervised machine learning that we have in this case study by lookin at the target variable"
   ]
  },
  {
   "cell_type": "code",
   "execution_count": 3,
   "metadata": {
    "scrolled": true
   },
   "outputs": [
    {
     "name": "stdout",
     "output_type": "stream",
     "text": [
      "Target: 'Income'\n",
      "Unique Values in Income: [' <=50K' ' >50K']\n",
      "Number of unique values: 2\n"
     ]
    }
   ],
   "source": [
    "print(f\"Target: 'Income'\\nUnique Values in Income: {data.Income.unique()}\\nNumber of unique values: {data.Income.nunique()}\")"
   ]
  },
  {
   "cell_type": "markdown",
   "metadata": {},
   "source": [
    "In the problem, we have 'Income' as the Target variable. we see that we have only two values which are to be predicted, either the income is greater than 50K, which is Yes, or the income is less than or equal to 50K, which is No. We will label encode the target variable."
   ]
  },
  {
   "cell_type": "code",
   "execution_count": 4,
   "metadata": {},
   "outputs": [],
   "source": [
    "data['Income'] = data['Income'].str.replace(' <=50K', '0')\n",
    "data['Income'] = data['Income'].str.replace(' >50K', '1')"
   ]
  },
  {
   "cell_type": "code",
   "execution_count": 5,
   "metadata": {},
   "outputs": [],
   "source": [
    "data['Income'] = data['Income'].astype(np.int64)"
   ]
  },
  {
   "cell_type": "code",
   "execution_count": 6,
   "metadata": {},
   "outputs": [
    {
     "data": {
      "text/plain": [
       "dtype('int64')"
      ]
     },
     "execution_count": 6,
     "metadata": {},
     "output_type": "execute_result"
    }
   ],
   "source": [
    "data.Income.dtypes"
   ]
  },
  {
   "cell_type": "markdown",
   "metadata": {},
   "source": [
    "We can see that, we have encoded the values of the target variable, and converted it into int data-type. This problem is a classification problem with 'Income' as the target variable. Making a copy of the dataset to work ahead."
   ]
  },
  {
   "cell_type": "code",
   "execution_count": 7,
   "metadata": {},
   "outputs": [],
   "source": [
    "ds = data.copy()"
   ]
  },
  {
   "cell_type": "code",
   "execution_count": 8,
   "metadata": {},
   "outputs": [
    {
     "name": "stdout",
     "output_type": "stream",
     "text": [
      "Unique values in 'Education': 16\n",
      "Unique values in 'Education_num': 16\n"
     ]
    }
   ],
   "source": [
    "print(f\"Unique values in 'Education': {ds.Education.nunique()}\\nUnique values in 'Education_num': {ds.Education_num.nunique()}\")"
   ]
  },
  {
   "cell_type": "markdown",
   "metadata": {},
   "source": [
    "We see that for the feature 'Education', we already have the encoded values in feature 'Education_num'. 'Education' will be removed from the dataset."
   ]
  },
  {
   "cell_type": "code",
   "execution_count": 9,
   "metadata": {},
   "outputs": [],
   "source": [
    "ds.drop(['Education'], axis = 1, inplace = True)"
   ]
  },
  {
   "cell_type": "markdown",
   "metadata": {},
   "source": [
    "Checking to see that is there any Null values present in the data that we have. Handling the null values will be the first thing that we need to do. Then, we have a look at the data-types of the other features and the value counts and unique values in those features."
   ]
  },
  {
   "cell_type": "code",
   "execution_count": 10,
   "metadata": {},
   "outputs": [
    {
     "data": {
      "image/png": "[encoded data removed]",
      "text/plain": [
       "<Figure size 432x288 with 2 Axes>"
      ]
     },
     "metadata": {
      "needs_background": "light"
     },
     "output_type": "display_data"
    }
   ],
   "source": [
    "plt.title(\"Null values in the data\", fontsize = 12)\n",
    "sns.heatmap(ds.isnull(), cmap = 'inferno')\n",
    "plt.show()"
   ]
  },
  {
   "cell_type": "markdown",
   "metadata": {},
   "source": [
    "From the heatmap, we see that the dataset consists of no null values. But for some features, we have '?' as the values present. **'?' will be considered as null values.** We move ahead with the feature engineering part. Checking the datatypes of the columns"
   ]
  },
  {
   "cell_type": "code",
   "execution_count": 11,
   "metadata": {},
   "outputs": [
    {
     "data": {
      "text/plain": [
       "Age                int64\n",
       "Workclass         object\n",
       "Fnlwgt             int64\n",
       "Education_num      int64\n",
       "Marital_status    object\n",
       "Occupation        object\n",
       "Relationship      object\n",
       "Race              object\n",
       "Sex               object\n",
       "Capital_gain       int64\n",
       "Capital_loss       int64\n",
       "Hours_per_week     int64\n",
       "Native_country    object\n",
       "Income             int64\n",
       "dtype: object"
      ]
     },
     "execution_count": 11,
     "metadata": {},
     "output_type": "execute_result"
    }
   ],
   "source": [
    "ds.dtypes"
   ]
  },
  {
   "cell_type": "code",
   "execution_count": 12,
   "metadata": {},
   "outputs": [
    {
     "data": {
      "text/plain": [
       "Age                  73\n",
       "Workclass             9\n",
       "Fnlwgt            21647\n",
       "Education_num        16\n",
       "Marital_status        7\n",
       "Occupation           15\n",
       "Relationship          6\n",
       "Race                  5\n",
       "Sex                   2\n",
       "Capital_gain        119\n",
       "Capital_loss         92\n",
       "Hours_per_week       94\n",
       "Native_country       42\n",
       "Income                2\n",
       "dtype: int64"
      ]
     },
     "execution_count": 12,
     "metadata": {},
     "output_type": "execute_result"
    }
   ],
   "source": [
    "ds.nunique()"
   ]
  },
  {
   "cell_type": "markdown",
   "metadata": {},
   "source": [
    "*'Workclass', 'Marital_status', 'Occupation', 'Relationship', 'Race', 'Sex', 'Native_country' are the categorical variables in the data*. Proper encoding or conversion of these variables is necessary for the feature engineering. We will look at these attributes and convert them one by one.\n",
    "\n",
    "**'Workclass':** Starting off with the work class, we look the number of unique values and value counts for those values"
   ]
  },
  {
   "cell_type": "code",
   "execution_count": 13,
   "metadata": {},
   "outputs": [
    {
     "data": {
      "text/plain": [
       " Private             22696\n",
       " Self-emp-not-inc     2541\n",
       " Local-gov            2093\n",
       " ?                    1836\n",
       " State-gov            1297\n",
       " Self-emp-inc         1116\n",
       " Federal-gov           960\n",
       " Without-pay            14\n",
       " Never-worked            7\n",
       "Name: Workclass, dtype: int64"
      ]
     },
     "execution_count": 13,
     "metadata": {},
     "output_type": "execute_result"
    }
   ],
   "source": [
    "ds.Workclass.value_counts()"
   ]
  },
  {
   "cell_type": "markdown",
   "metadata": {},
   "source": [
    "In work class, *majority of the people are private employees*. The *minority of people are either working without-pay or they have never-worked*. We can combine the values of these two values as one. first we remove the blank space from the column is present in any values."
   ]
  },
  {
   "cell_type": "code",
   "execution_count": 14,
   "metadata": {},
   "outputs": [],
   "source": [
    "ds['Workclass'] = ds['Workclass'].str.replace(' ', '')\n",
    "ds['Workclass'] = ds['Workclass'].str.replace('Never-worked', 'Without-pay')"
   ]
  },
  {
   "cell_type": "markdown",
   "metadata": {},
   "source": [
    "Now, we have 8 unique values in this feature. But, we see that **there are some values where we have '?' in the column. This values can be replaced with NaN values.**"
   ]
  },
  {
   "cell_type": "code",
   "execution_count": 15,
   "metadata": {},
   "outputs": [],
   "source": [
    "ds['Workclass'] = ds['Workclass'].replace('?', np.NaN)"
   ]
  },
  {
   "cell_type": "code",
   "execution_count": 18,
   "metadata": {},
   "outputs": [
    {
     "data": {
      "image/png": "[encoded data removed]",
      "text/plain": [
       "<Figure size 720x432 with 1 Axes>"
      ]
     },
     "metadata": {
      "needs_background": "light"
     },
     "output_type": "display_data"
    }
   ],
   "source": [
    "plt.figure(figsize = (10,6))\n",
    "plt.title(\"Income of people according to workclass\", fontsize = 16)\n",
    "sns.countplot(y = ds['Workclass'], hue = ds['Income'])\n",
    "plt.show()"
   ]
  },
  {
   "cell_type": "markdown",
   "metadata": {},
   "source": [
    "We see that the **majority of people who have income more than 50K a year are from private sector**. Same goes for the people with income less than 50K. But *for the Self Employed sector, the number of people whose income > 50K are more than the number of people whose income < 50K.* Now, moving ahead with replacing the null values and encoding the feature."
   ]
  },
  {
   "cell_type": "code",
   "execution_count": 19,
   "metadata": {},
   "outputs": [],
   "source": [
    "from scipy.stats import mode"
   ]
  },
  {
   "cell_type": "code",
   "execution_count": 20,
   "metadata": {},
   "outputs": [
    {
     "data": {
      "text/html": [
       "<div>\n",
       "<style scoped>\n",
       "    .dataframe tbody tr th:only-of-type {\n",
       "        vertical-align: middle;\n",
       "    }\n",
       "\n",
       "    .dataframe tbody tr th {\n",
       "        vertical-align: top;\n",
       "    }\n",
       "\n",
       "    .dataframe thead th {\n",
       "        text-align: right;\n",
       "    }\n",
       "</style>\n",
       "<table border=\"1\" class=\"dataframe\">\n",
       "  <thead>\n",
       "    <tr style=\"text-align: right;\">\n",
       "      <th>Occupation</th>\n",
       "      <th>?</th>\n",
       "      <th>Adm-clerical</th>\n",
       "      <th>Armed-Forces</th>\n",
       "      <th>Craft-repair</th>\n",
       "      <th>Exec-managerial</th>\n",
       "      <th>Farming-fishing</th>\n",
       "      <th>Handlers-cleaners</th>\n",
       "      <th>Machine-op-inspct</th>\n",
       "      <th>Other-service</th>\n",
       "      <th>Priv-house-serv</th>\n",
       "      <th>Prof-specialty</th>\n",
       "      <th>Protective-serv</th>\n",
       "      <th>Sales</th>\n",
       "      <th>Tech-support</th>\n",
       "      <th>Transport-moving</th>\n",
       "    </tr>\n",
       "  </thead>\n",
       "  <tbody>\n",
       "    <tr>\n",
       "      <th>Workclass</th>\n",
       "      <td>Without-pay</td>\n",
       "      <td>Private</td>\n",
       "      <td>Federal-gov</td>\n",
       "      <td>Private</td>\n",
       "      <td>Private</td>\n",
       "      <td>Private</td>\n",
       "      <td>Private</td>\n",
       "      <td>Private</td>\n",
       "      <td>Private</td>\n",
       "      <td>Private</td>\n",
       "      <td>Private</td>\n",
       "      <td>Local-gov</td>\n",
       "      <td>Private</td>\n",
       "      <td>Private</td>\n",
       "      <td>Private</td>\n",
       "    </tr>\n",
       "  </tbody>\n",
       "</table>\n",
       "</div>"
      ],
      "text/plain": [
       "Occupation            ?  Adm-clerical  Armed-Forces  Craft-repair  \\\n",
       "Workclass   Without-pay       Private   Federal-gov       Private   \n",
       "\n",
       "Occupation  Exec-managerial  Farming-fishing  Handlers-cleaners  \\\n",
       "Workclass           Private          Private            Private   \n",
       "\n",
       "Occupation  Machine-op-inspct  Other-service  Priv-house-serv  Prof-specialty  \\\n",
       "Workclass             Private        Private          Private         Private   \n",
       "\n",
       "Occupation  Protective-serv    Sales  Tech-support  Transport-moving  \n",
       "Workclass         Local-gov  Private       Private           Private  "
      ]
     },
     "execution_count": 20,
     "metadata": {},
     "output_type": "execute_result"
    }
   ],
   "source": [
    "workclass_mode = ds.pivot_table(values='Workclass', columns='Occupation',aggfunc=(lambda x:mode(x).mode[0]))\n",
    "workclass_mode"
   ]
  },
  {
   "cell_type": "code",
   "execution_count": 21,
   "metadata": {},
   "outputs": [
    {
     "data": {
      "text/plain": [
       "0        False\n",
       "1        False\n",
       "2        False\n",
       "3        False\n",
       "4        False\n",
       "         ...  \n",
       "32555    False\n",
       "32556    False\n",
       "32557    False\n",
       "32558    False\n",
       "32559    False\n",
       "Name: Workclass, Length: 32560, dtype: bool"
      ]
     },
     "execution_count": 21,
     "metadata": {},
     "output_type": "execute_result"
    }
   ],
   "source": [
    "loc1 = ds['Workclass'].isnull()\n",
    "loc1"
   ]
  },
  {
   "cell_type": "code",
   "execution_count": 22,
   "metadata": {},
   "outputs": [
    {
     "data": {
      "text/plain": [
       "26       NaN\n",
       "60       NaN\n",
       "68       NaN\n",
       "76       NaN\n",
       "105      NaN\n",
       "        ... \n",
       "32529    NaN\n",
       "32530    NaN\n",
       "32538    NaN\n",
       "32540    NaN\n",
       "32541    NaN\n",
       "Name: Workclass, Length: 1836, dtype: object"
      ]
     },
     "execution_count": 22,
     "metadata": {},
     "output_type": "execute_result"
    }
   ],
   "source": [
    "ds.loc[loc1, 'Workclass']"
   ]
  },
  {
   "cell_type": "code",
   "execution_count": 23,
   "metadata": {},
   "outputs": [],
   "source": [
    "ds.loc[loc1, 'Workclass'] = ds.loc[loc1,'Occupation'].apply(lambda x: workclass_mode[x])"
   ]
  },
  {
   "cell_type": "markdown",
   "metadata": {},
   "source": [
    "**We have replace the NaN values in the 'Workclass' feature by the mode of the column, grouping it by the 'Occupation' feature.** We now have 7 unique values in Workclass feature. We can encode these values using the frequency encoding technique."
   ]
  },
  {
   "cell_type": "code",
   "execution_count": 24,
   "metadata": {},
   "outputs": [
    {
     "name": "stdout",
     "output_type": "stream",
     "text": [
      "Workclass\n",
      "Federal-gov         0.029484\n",
      "Local-gov           0.064281\n",
      "Private             0.697052\n",
      "Self-emp-inc        0.034275\n",
      "Self-emp-not-inc    0.078041\n",
      "State-gov           0.039834\n",
      "Without-pay         0.057033\n",
      "dtype: float64\n"
     ]
    },
    {
     "data": {
      "text/plain": [
       "0    0.078041\n",
       "1    0.697052\n",
       "2    0.697052\n",
       "Name: Workclass_enc, dtype: float64"
      ]
     },
     "execution_count": 24,
     "metadata": {},
     "output_type": "execute_result"
    }
   ],
   "source": [
    "workclass_enc = (ds.groupby('Workclass').size()) / len(ds)\n",
    "print(workclass_enc)\n",
    "\n",
    "ds['Workclass_enc'] = ds['Workclass'].apply(lambda x : workclass_enc[x])\n",
    "ds['Workclass_enc'].head(3)"
   ]
  },
  {
   "cell_type": "code",
   "execution_count": 25,
   "metadata": {},
   "outputs": [],
   "source": [
    "ds.drop(['Workclass'], axis = 1, inplace = True)"
   ]
  },
  {
   "cell_type": "markdown",
   "metadata": {},
   "source": [
    "**'Occupation':** Similar to 'Workclass', we will look at the unique values and value counts in the 'Occupation' feature."
   ]
  },
  {
   "cell_type": "code",
   "execution_count": 26,
   "metadata": {},
   "outputs": [
    {
     "data": {
      "text/plain": [
       " Prof-specialty       4140\n",
       " Craft-repair         4099\n",
       " Exec-managerial      4066\n",
       " Adm-clerical         3769\n",
       " Sales                3650\n",
       " Other-service        3295\n",
       " Machine-op-inspct    2002\n",
       " ?                    1843\n",
       " Transport-moving     1597\n",
       " Handlers-cleaners    1370\n",
       " Farming-fishing       994\n",
       " Tech-support          928\n",
       " Protective-serv       649\n",
       " Priv-house-serv       149\n",
       " Armed-Forces            9\n",
       "Name: Occupation, dtype: int64"
      ]
     },
     "execution_count": 26,
     "metadata": {},
     "output_type": "execute_result"
    }
   ],
   "source": [
    "ds.Occupation.value_counts()"
   ]
  },
  {
   "cell_type": "code",
   "execution_count": 27,
   "metadata": {},
   "outputs": [
    {
     "data": {
      "text/plain": [
       "' Exec-managerial'"
      ]
     },
     "execution_count": 27,
     "metadata": {},
     "output_type": "execute_result"
    }
   ],
   "source": [
    "ds['Occupation'][0]"
   ]
  },
  {
   "cell_type": "code",
   "execution_count": 28,
   "metadata": {},
   "outputs": [],
   "source": [
    "ds['Occupation'] = ds['Occupation'].str.replace(' ', '')"
   ]
  },
  {
   "cell_type": "code",
   "execution_count": 29,
   "metadata": {},
   "outputs": [],
   "source": [
    "ds['Occupation'] = ds['Occupation'].replace('?', np.NaN)"
   ]
  },
  {
   "cell_type": "markdown",
   "metadata": {},
   "source": [
    "**We will drop the rows where the occupation is NaN.**"
   ]
  },
  {
   "cell_type": "code",
   "execution_count": 30,
   "metadata": {},
   "outputs": [
    {
     "data": {
      "text/html": [
       "<div>\n",
       "<style scoped>\n",
       "    .dataframe tbody tr th:only-of-type {\n",
       "        vertical-align: middle;\n",
       "    }\n",
       "\n",
       "    .dataframe tbody tr th {\n",
       "        vertical-align: top;\n",
       "    }\n",
       "\n",
       "    .dataframe thead th {\n",
       "        text-align: right;\n",
       "    }\n",
       "</style>\n",
       "<table border=\"1\" class=\"dataframe\">\n",
       "  <thead>\n",
       "    <tr style=\"text-align: right;\">\n",
       "      <th></th>\n",
       "      <th>Age</th>\n",
       "      <th>Fnlwgt</th>\n",
       "      <th>Education_num</th>\n",
       "      <th>Marital_status</th>\n",
       "      <th>Occupation</th>\n",
       "      <th>Relationship</th>\n",
       "      <th>Race</th>\n",
       "      <th>Sex</th>\n",
       "      <th>Capital_gain</th>\n",
       "      <th>Capital_loss</th>\n",
       "      <th>Hours_per_week</th>\n",
       "      <th>Native_country</th>\n",
       "      <th>Income</th>\n",
       "      <th>Workclass_enc</th>\n",
       "    </tr>\n",
       "  </thead>\n",
       "  <tbody>\n",
       "    <tr>\n",
       "      <th>0</th>\n",
       "      <td>50</td>\n",
       "      <td>83311</td>\n",
       "      <td>13</td>\n",
       "      <td>Married-civ-spouse</td>\n",
       "      <td>Exec-managerial</td>\n",
       "      <td>Husband</td>\n",
       "      <td>White</td>\n",
       "      <td>Male</td>\n",
       "      <td>0</td>\n",
       "      <td>0</td>\n",
       "      <td>13</td>\n",
       "      <td>United-States</td>\n",
       "      <td>0</td>\n",
       "      <td>0.078041</td>\n",
       "    </tr>\n",
       "    <tr>\n",
       "      <th>1</th>\n",
       "      <td>38</td>\n",
       "      <td>215646</td>\n",
       "      <td>9</td>\n",
       "      <td>Divorced</td>\n",
       "      <td>Handlers-cleaners</td>\n",
       "      <td>Not-in-family</td>\n",
       "      <td>White</td>\n",
       "      <td>Male</td>\n",
       "      <td>0</td>\n",
       "      <td>0</td>\n",
       "      <td>40</td>\n",
       "      <td>United-States</td>\n",
       "      <td>0</td>\n",
       "      <td>0.697052</td>\n",
       "    </tr>\n",
       "    <tr>\n",
       "      <th>2</th>\n",
       "      <td>53</td>\n",
       "      <td>234721</td>\n",
       "      <td>7</td>\n",
       "      <td>Married-civ-spouse</td>\n",
       "      <td>Handlers-cleaners</td>\n",
       "      <td>Husband</td>\n",
       "      <td>Black</td>\n",
       "      <td>Male</td>\n",
       "      <td>0</td>\n",
       "      <td>0</td>\n",
       "      <td>40</td>\n",
       "      <td>United-States</td>\n",
       "      <td>0</td>\n",
       "      <td>0.697052</td>\n",
       "    </tr>\n",
       "    <tr>\n",
       "      <th>3</th>\n",
       "      <td>28</td>\n",
       "      <td>338409</td>\n",
       "      <td>13</td>\n",
       "      <td>Married-civ-spouse</td>\n",
       "      <td>Prof-specialty</td>\n",
       "      <td>Wife</td>\n",
       "      <td>Black</td>\n",
       "      <td>Female</td>\n",
       "      <td>0</td>\n",
       "      <td>0</td>\n",
       "      <td>40</td>\n",
       "      <td>Cuba</td>\n",
       "      <td>0</td>\n",
       "      <td>0.697052</td>\n",
       "    </tr>\n",
       "    <tr>\n",
       "      <th>4</th>\n",
       "      <td>37</td>\n",
       "      <td>284582</td>\n",
       "      <td>14</td>\n",
       "      <td>Married-civ-spouse</td>\n",
       "      <td>Exec-managerial</td>\n",
       "      <td>Wife</td>\n",
       "      <td>White</td>\n",
       "      <td>Female</td>\n",
       "      <td>0</td>\n",
       "      <td>0</td>\n",
       "      <td>40</td>\n",
       "      <td>United-States</td>\n",
       "      <td>0</td>\n",
       "      <td>0.697052</td>\n",
       "    </tr>\n",
       "    <tr>\n",
       "      <th>...</th>\n",
       "      <td>...</td>\n",
       "      <td>...</td>\n",
       "      <td>...</td>\n",
       "      <td>...</td>\n",
       "      <td>...</td>\n",
       "      <td>...</td>\n",
       "      <td>...</td>\n",
       "      <td>...</td>\n",
       "      <td>...</td>\n",
       "      <td>...</td>\n",
       "      <td>...</td>\n",
       "      <td>...</td>\n",
       "      <td>...</td>\n",
       "      <td>...</td>\n",
       "    </tr>\n",
       "    <tr>\n",
       "      <th>32555</th>\n",
       "      <td>27</td>\n",
       "      <td>257302</td>\n",
       "      <td>12</td>\n",
       "      <td>Married-civ-spouse</td>\n",
       "      <td>Tech-support</td>\n",
       "      <td>Wife</td>\n",
       "      <td>White</td>\n",
       "      <td>Female</td>\n",
       "      <td>0</td>\n",
       "      <td>0</td>\n",
       "      <td>38</td>\n",
       "      <td>United-States</td>\n",
       "      <td>0</td>\n",
       "      <td>0.697052</td>\n",
       "    </tr>\n",
       "    <tr>\n",
       "      <th>32556</th>\n",
       "      <td>40</td>\n",
       "      <td>154374</td>\n",
       "      <td>9</td>\n",
       "      <td>Married-civ-spouse</td>\n",
       "      <td>Machine-op-inspct</td>\n",
       "      <td>Husband</td>\n",
       "      <td>White</td>\n",
       "      <td>Male</td>\n",
       "      <td>0</td>\n",
       "      <td>0</td>\n",
       "      <td>40</td>\n",
       "      <td>United-States</td>\n",
       "      <td>1</td>\n",
       "      <td>0.697052</td>\n",
       "    </tr>\n",
       "    <tr>\n",
       "      <th>32557</th>\n",
       "      <td>58</td>\n",
       "      <td>151910</td>\n",
       "      <td>9</td>\n",
       "      <td>Widowed</td>\n",
       "      <td>Adm-clerical</td>\n",
       "      <td>Unmarried</td>\n",
       "      <td>White</td>\n",
       "      <td>Female</td>\n",
       "      <td>0</td>\n",
       "      <td>0</td>\n",
       "      <td>40</td>\n",
       "      <td>United-States</td>\n",
       "      <td>0</td>\n",
       "      <td>0.697052</td>\n",
       "    </tr>\n",
       "    <tr>\n",
       "      <th>32558</th>\n",
       "      <td>22</td>\n",
       "      <td>201490</td>\n",
       "      <td>9</td>\n",
       "      <td>Never-married</td>\n",
       "      <td>Adm-clerical</td>\n",
       "      <td>Own-child</td>\n",
       "      <td>White</td>\n",
       "      <td>Male</td>\n",
       "      <td>0</td>\n",
       "      <td>0</td>\n",
       "      <td>20</td>\n",
       "      <td>United-States</td>\n",
       "      <td>0</td>\n",
       "      <td>0.697052</td>\n",
       "    </tr>\n",
       "    <tr>\n",
       "      <th>32559</th>\n",
       "      <td>52</td>\n",
       "      <td>287927</td>\n",
       "      <td>9</td>\n",
       "      <td>Married-civ-spouse</td>\n",
       "      <td>Exec-managerial</td>\n",
       "      <td>Wife</td>\n",
       "      <td>White</td>\n",
       "      <td>Female</td>\n",
       "      <td>15024</td>\n",
       "      <td>0</td>\n",
       "      <td>40</td>\n",
       "      <td>United-States</td>\n",
       "      <td>1</td>\n",
       "      <td>0.034275</td>\n",
       "    </tr>\n",
       "  </tbody>\n",
       "</table>\n",
       "<p>30717 rows × 14 columns</p>\n",
       "</div>"
      ],
      "text/plain": [
       "       Age  Fnlwgt  Education_num       Marital_status         Occupation  \\\n",
       "0       50   83311             13   Married-civ-spouse    Exec-managerial   \n",
       "1       38  215646              9             Divorced  Handlers-cleaners   \n",
       "2       53  234721              7   Married-civ-spouse  Handlers-cleaners   \n",
       "3       28  338409             13   Married-civ-spouse     Prof-specialty   \n",
       "4       37  284582             14   Married-civ-spouse    Exec-managerial   \n",
       "...    ...     ...            ...                  ...                ...   \n",
       "32555   27  257302             12   Married-civ-spouse       Tech-support   \n",
       "32556   40  154374              9   Married-civ-spouse  Machine-op-inspct   \n",
       "32557   58  151910              9              Widowed       Adm-clerical   \n",
       "32558   22  201490              9        Never-married       Adm-clerical   \n",
       "32559   52  287927              9   Married-civ-spouse    Exec-managerial   \n",
       "\n",
       "         Relationship    Race      Sex  Capital_gain  Capital_loss  \\\n",
       "0             Husband   White     Male             0             0   \n",
       "1       Not-in-family   White     Male             0             0   \n",
       "2             Husband   Black     Male             0             0   \n",
       "3                Wife   Black   Female             0             0   \n",
       "4                Wife   White   Female             0             0   \n",
       "...               ...     ...      ...           ...           ...   \n",
       "32555            Wife   White   Female             0             0   \n",
       "32556         Husband   White     Male             0             0   \n",
       "32557       Unmarried   White   Female             0             0   \n",
       "32558       Own-child   White     Male             0             0   \n",
       "32559            Wife   White   Female         15024             0   \n",
       "\n",
       "       Hours_per_week  Native_country  Income  Workclass_enc  \n",
       "0                  13   United-States       0       0.078041  \n",
       "1                  40   United-States       0       0.697052  \n",
       "2                  40   United-States       0       0.697052  \n",
       "3                  40            Cuba       0       0.697052  \n",
       "4                  40   United-States       0       0.697052  \n",
       "...               ...             ...     ...            ...  \n",
       "32555              38   United-States       0       0.697052  \n",
       "32556              40   United-States       1       0.697052  \n",
       "32557              40   United-States       0       0.697052  \n",
       "32558              20   United-States       0       0.697052  \n",
       "32559              40   United-States       1       0.034275  \n",
       "\n",
       "[30717 rows x 14 columns]"
      ]
     },
     "execution_count": 30,
     "metadata": {},
     "output_type": "execute_result"
    }
   ],
   "source": [
    "ds = ds.loc[ds['Occupation'].isnull() == False]\n",
    "ds"
   ]
  },
  {
   "cell_type": "code",
   "execution_count": 31,
   "metadata": {},
   "outputs": [
    {
     "data": {
      "text/plain": [
       "Prof-specialty       4140\n",
       "Craft-repair         4099\n",
       "Exec-managerial      4066\n",
       "Adm-clerical         3769\n",
       "Sales                3650\n",
       "Other-service        3295\n",
       "Machine-op-inspct    2002\n",
       "Transport-moving     1597\n",
       "Handlers-cleaners    1370\n",
       "Farming-fishing       994\n",
       "Tech-support          928\n",
       "Protective-serv       649\n",
       "Priv-house-serv       149\n",
       "Armed-Forces            9\n",
       "Name: Occupation, dtype: int64"
      ]
     },
     "execution_count": 31,
     "metadata": {},
     "output_type": "execute_result"
    }
   ],
   "source": [
    "ds.Occupation.value_counts()"
   ]
  },
  {
   "cell_type": "code",
   "execution_count": 35,
   "metadata": {},
   "outputs": [
    {
     "data": {
      "text/plain": [
       "['Solarize_Light2',\n",
       " '_classic_test_patch',\n",
       " 'bmh',\n",
       " 'classic',\n",
       " 'dark_background',\n",
       " 'fast',\n",
       " 'fivethirtyeight',\n",
       " 'ggplot',\n",
       " 'grayscale',\n",
       " 'seaborn',\n",
       " 'seaborn-bright',\n",
       " 'seaborn-colorblind',\n",
       " 'seaborn-dark',\n",
       " 'seaborn-dark-palette',\n",
       " 'seaborn-darkgrid',\n",
       " 'seaborn-deep',\n",
       " 'seaborn-muted',\n",
       " 'seaborn-notebook',\n",
       " 'seaborn-paper',\n",
       " 'seaborn-pastel',\n",
       " 'seaborn-poster',\n",
       " 'seaborn-talk',\n",
       " 'seaborn-ticks',\n",
       " 'seaborn-white',\n",
       " 'seaborn-whitegrid',\n",
       " 'tableau-colorblind10']"
      ]
     },
     "execution_count": 35,
     "metadata": {},
     "output_type": "execute_result"
    }
   ],
   "source": [
    "plt.style.available"
   ]
  },
  {
   "cell_type": "code",
   "execution_count": 41,
   "metadata": {},
   "outputs": [],
   "source": [
    "plt.style.use('ggplot')"
   ]
  },
  {
   "cell_type": "code",
   "execution_count": 42,
   "metadata": {},
   "outputs": [
    {
     "data": {
      "image/png": "[encoded data removed]",
      "text/plain": [
       "<Figure size 1000x600 with 1 Axes>"
      ]
     },
     "metadata": {},
     "output_type": "display_data"
    }
   ],
   "source": [
    "plt.figure(figsize = (10,6))\n",
    "plt.title(\"Income of people according to their occupation\", fontsize = 16)\n",
    "sns.countplot(y = ds['Occupation'], hue = ds['Income'])\n",
    "plt.show()"
   ]
  },
  {
   "cell_type": "markdown",
   "metadata": {},
   "source": [
    "Majority of people whose income is greater than 50K are either executive managers or they belong to any professional speciality"
   ]
  },
  {
   "cell_type": "code",
   "execution_count": 43,
   "metadata": {},
   "outputs": [
    {
     "name": "stdout",
     "output_type": "stream",
     "text": [
      "Occupation\n",
      "Adm-clerical         0.122701\n",
      "Armed-Forces         0.000293\n",
      "Craft-repair         0.133444\n",
      "Exec-managerial      0.132370\n",
      "Farming-fishing      0.032360\n",
      "Handlers-cleaners    0.044601\n",
      "Machine-op-inspct    0.065176\n",
      "Other-service        0.107270\n",
      "Priv-house-serv      0.004851\n",
      "Prof-specialty       0.134779\n",
      "Protective-serv      0.021128\n",
      "Sales                0.118827\n",
      "Tech-support         0.030211\n",
      "Transport-moving     0.051991\n",
      "dtype: float64\n"
     ]
    },
    {
     "data": {
      "text/plain": [
       "0    0.132370\n",
       "1    0.044601\n",
       "2    0.044601\n",
       "Name: occupation_enc, dtype: float64"
      ]
     },
     "execution_count": 43,
     "metadata": {},
     "output_type": "execute_result"
    }
   ],
   "source": [
    "occupation_enc = (ds.groupby('Occupation').size()) / len(ds)\n",
    "print(occupation_enc)\n",
    "\n",
    "ds['occupation_enc'] = ds['Occupation'].apply(lambda x : occupation_enc[x])\n",
    "ds['occupation_enc'].head(3)"
   ]
  },
  {
   "cell_type": "code",
   "execution_count": 44,
   "metadata": {},
   "outputs": [],
   "source": [
    "ds.drop(['Occupation'], axis = 1, inplace = True)"
   ]
  },
  {
   "cell_type": "markdown",
   "metadata": {},
   "source": [
    "**'Native_country':** We are checking for the salary on people in USA and outside USA, so , **we will convert all the values where country is not USA to 'non-usa'.** This way, we can encode the values by one-hot encoding without increasing the curse of dimensionality."
   ]
  },
  {
   "cell_type": "code",
   "execution_count": 45,
   "metadata": {
    "scrolled": false
   },
   "outputs": [
    {
     "data": {
      "text/plain": [
       " United-States                 27503\n",
       " Mexico                          610\n",
       " ?                               556\n",
       " Philippines                     188\n",
       " Germany                         128\n",
       " Puerto-Rico                     109\n",
       " Canada                          107\n",
       " India                           100\n",
       " El-Salvador                     100\n",
       " Cuba                             92\n",
       " England                          86\n",
       " Jamaica                          80\n",
       " South                            71\n",
       " China                            68\n",
       " Italy                            68\n",
       " Dominican-Republic               67\n",
       " Vietnam                          64\n",
       " Guatemala                        63\n",
       " Japan                            59\n",
       " Poland                           56\n",
       " Columbia                         56\n",
       " Haiti                            42\n",
       " Taiwan                           42\n",
       " Iran                             42\n",
       " Portugal                         34\n",
       " Nicaragua                        33\n",
       " Peru                             30\n",
       " Greece                           29\n",
       " France                           27\n",
       " Ecuador                          27\n",
       " Ireland                          24\n",
       " Hong                             19\n",
       " Cambodia                         18\n",
       " Trinadad&Tobago                  18\n",
       " Laos                             17\n",
       " Thailand                         17\n",
       " Yugoslavia                       16\n",
       " Outlying-US(Guam-USVI-etc)       14\n",
       " Hungary                          13\n",
       " Honduras                         12\n",
       " Scotland                         11\n",
       " Holand-Netherlands                1\n",
       "Name: Native_country, dtype: int64"
      ]
     },
     "execution_count": 45,
     "metadata": {},
     "output_type": "execute_result"
    }
   ],
   "source": [
    "ds.Native_country.value_counts()"
   ]
  },
  {
   "cell_type": "code",
   "execution_count": 46,
   "metadata": {},
   "outputs": [
    {
     "data": {
      "text/plain": [
       "' United-States'"
      ]
     },
     "execution_count": 46,
     "metadata": {},
     "output_type": "execute_result"
    }
   ],
   "source": [
    "ds['Native_country'][0]"
   ]
  },
  {
   "cell_type": "code",
   "execution_count": 47,
   "metadata": {},
   "outputs": [
    {
     "data": {
      "text/plain": [
       " United-States    27503\n",
       "non_usa            3214\n",
       "Name: Native_country, dtype: int64"
      ]
     },
     "execution_count": 47,
     "metadata": {},
     "output_type": "execute_result"
    }
   ],
   "source": [
    "ds['Native_country'].loc[ds['Native_country'] != ' United-States'] = 'non_usa'\n",
    "ds.Native_country.value_counts()"
   ]
  },
  {
   "cell_type": "code",
   "execution_count": 48,
   "metadata": {},
   "outputs": [],
   "source": [
    "ds['Native_country'].loc[ds['Native_country'] == ' United-States'] = 'usa'"
   ]
  },
  {
   "cell_type": "code",
   "execution_count": 49,
   "metadata": {},
   "outputs": [
    {
     "data": {
      "text/plain": [
       "usa        27503\n",
       "non_usa     3214\n",
       "Name: Native_country, dtype: int64"
      ]
     },
     "execution_count": 49,
     "metadata": {},
     "output_type": "execute_result"
    }
   ],
   "source": [
    "ds.Native_country.value_counts()"
   ]
  },
  {
   "cell_type": "code",
   "execution_count": 50,
   "metadata": {},
   "outputs": [],
   "source": [
    "plt.style.use('default')"
   ]
  },
  {
   "cell_type": "code",
   "execution_count": 51,
   "metadata": {},
   "outputs": [],
   "source": [
    "plt.style.use('seaborn-pastel')"
   ]
  },
  {
   "cell_type": "code",
   "execution_count": 54,
   "metadata": {},
   "outputs": [
    {
     "data": {
      "image/png": "[encoded data removed]",
      "text/plain": [
       "<Figure size 800x300 with 1 Axes>"
      ]
     },
     "metadata": {},
     "output_type": "display_data"
    }
   ],
   "source": [
    "plt.figure(figsize = (8,3))\n",
    "plt.title(\"Income of people according to their native country\", fontsize = 16)\n",
    "sns.countplot(y = ds['Native_country'], hue = ds['Income'])\n",
    "plt.show()"
   ]
  },
  {
   "cell_type": "markdown",
   "metadata": {},
   "source": [
    "**Majority of people with higher income belong to the USA**. We also have more number of people from USA then any other country combined in this dataset."
   ]
  },
  {
   "cell_type": "code",
   "execution_count": 55,
   "metadata": {},
   "outputs": [
    {
     "data": {
      "text/html": [
       "<div>\n",
       "<style scoped>\n",
       "    .dataframe tbody tr th:only-of-type {\n",
       "        vertical-align: middle;\n",
       "    }\n",
       "\n",
       "    .dataframe tbody tr th {\n",
       "        vertical-align: top;\n",
       "    }\n",
       "\n",
       "    .dataframe thead th {\n",
       "        text-align: right;\n",
       "    }\n",
       "</style>\n",
       "<table border=\"1\" class=\"dataframe\">\n",
       "  <thead>\n",
       "    <tr style=\"text-align: right;\">\n",
       "      <th></th>\n",
       "      <th>Age</th>\n",
       "      <th>Fnlwgt</th>\n",
       "      <th>Education_num</th>\n",
       "      <th>Marital_status</th>\n",
       "      <th>Relationship</th>\n",
       "      <th>Race</th>\n",
       "      <th>Sex</th>\n",
       "      <th>Capital_gain</th>\n",
       "      <th>Capital_loss</th>\n",
       "      <th>Hours_per_week</th>\n",
       "      <th>Native_country</th>\n",
       "      <th>Income</th>\n",
       "      <th>Workclass_enc</th>\n",
       "      <th>occupation_enc</th>\n",
       "      <th>Country_enc</th>\n",
       "    </tr>\n",
       "  </thead>\n",
       "  <tbody>\n",
       "    <tr>\n",
       "      <th>0</th>\n",
       "      <td>50</td>\n",
       "      <td>83311</td>\n",
       "      <td>13</td>\n",
       "      <td>Married-civ-spouse</td>\n",
       "      <td>Husband</td>\n",
       "      <td>White</td>\n",
       "      <td>Male</td>\n",
       "      <td>0</td>\n",
       "      <td>0</td>\n",
       "      <td>13</td>\n",
       "      <td>usa</td>\n",
       "      <td>0</td>\n",
       "      <td>0.078041</td>\n",
       "      <td>0.132370</td>\n",
       "      <td>1</td>\n",
       "    </tr>\n",
       "    <tr>\n",
       "      <th>1</th>\n",
       "      <td>38</td>\n",
       "      <td>215646</td>\n",
       "      <td>9</td>\n",
       "      <td>Divorced</td>\n",
       "      <td>Not-in-family</td>\n",
       "      <td>White</td>\n",
       "      <td>Male</td>\n",
       "      <td>0</td>\n",
       "      <td>0</td>\n",
       "      <td>40</td>\n",
       "      <td>usa</td>\n",
       "      <td>0</td>\n",
       "      <td>0.697052</td>\n",
       "      <td>0.044601</td>\n",
       "      <td>1</td>\n",
       "    </tr>\n",
       "    <tr>\n",
       "      <th>2</th>\n",
       "      <td>53</td>\n",
       "      <td>234721</td>\n",
       "      <td>7</td>\n",
       "      <td>Married-civ-spouse</td>\n",
       "      <td>Husband</td>\n",
       "      <td>Black</td>\n",
       "      <td>Male</td>\n",
       "      <td>0</td>\n",
       "      <td>0</td>\n",
       "      <td>40</td>\n",
       "      <td>usa</td>\n",
       "      <td>0</td>\n",
       "      <td>0.697052</td>\n",
       "      <td>0.044601</td>\n",
       "      <td>1</td>\n",
       "    </tr>\n",
       "    <tr>\n",
       "      <th>3</th>\n",
       "      <td>28</td>\n",
       "      <td>338409</td>\n",
       "      <td>13</td>\n",
       "      <td>Married-civ-spouse</td>\n",
       "      <td>Wife</td>\n",
       "      <td>Black</td>\n",
       "      <td>Female</td>\n",
       "      <td>0</td>\n",
       "      <td>0</td>\n",
       "      <td>40</td>\n",
       "      <td>non_usa</td>\n",
       "      <td>0</td>\n",
       "      <td>0.697052</td>\n",
       "      <td>0.134779</td>\n",
       "      <td>0</td>\n",
       "    </tr>\n",
       "    <tr>\n",
       "      <th>4</th>\n",
       "      <td>37</td>\n",
       "      <td>284582</td>\n",
       "      <td>14</td>\n",
       "      <td>Married-civ-spouse</td>\n",
       "      <td>Wife</td>\n",
       "      <td>White</td>\n",
       "      <td>Female</td>\n",
       "      <td>0</td>\n",
       "      <td>0</td>\n",
       "      <td>40</td>\n",
       "      <td>usa</td>\n",
       "      <td>0</td>\n",
       "      <td>0.697052</td>\n",
       "      <td>0.132370</td>\n",
       "      <td>1</td>\n",
       "    </tr>\n",
       "  </tbody>\n",
       "</table>\n",
       "</div>"
      ],
      "text/plain": [
       "   Age  Fnlwgt  Education_num       Marital_status    Relationship    Race  \\\n",
       "0   50   83311             13   Married-civ-spouse         Husband   White   \n",
       "1   38  215646              9             Divorced   Not-in-family   White   \n",
       "2   53  234721              7   Married-civ-spouse         Husband   Black   \n",
       "3   28  338409             13   Married-civ-spouse            Wife   Black   \n",
       "4   37  284582             14   Married-civ-spouse            Wife   White   \n",
       "\n",
       "       Sex  Capital_gain  Capital_loss  Hours_per_week Native_country  Income  \\\n",
       "0     Male             0             0              13            usa       0   \n",
       "1     Male             0             0              40            usa       0   \n",
       "2     Male             0             0              40            usa       0   \n",
       "3   Female             0             0              40        non_usa       0   \n",
       "4   Female             0             0              40            usa       0   \n",
       "\n",
       "   Workclass_enc  occupation_enc  Country_enc  \n",
       "0       0.078041        0.132370            1  \n",
       "1       0.697052        0.044601            1  \n",
       "2       0.697052        0.044601            1  \n",
       "3       0.697052        0.134779            0  \n",
       "4       0.697052        0.132370            1  "
      ]
     },
     "execution_count": 55,
     "metadata": {},
     "output_type": "execute_result"
    }
   ],
   "source": [
    "ds['Country_enc'] = ds['Native_country'].map({'usa' : 1, 'non_usa' : 0})\n",
    "ds.head()"
   ]
  },
  {
   "cell_type": "code",
   "execution_count": 56,
   "metadata": {},
   "outputs": [],
   "source": [
    "ds.drop(['Native_country'], axis = 1, inplace = True)"
   ]
  },
  {
   "cell_type": "markdown",
   "metadata": {},
   "source": [
    "**'Sex':** Similarly, encoding the sex using one hot encoding."
   ]
  },
  {
   "cell_type": "code",
   "execution_count": 58,
   "metadata": {},
   "outputs": [
    {
     "data": {
      "image/png": "[encoded data removed]",
      "text/plain": [
       "<Figure size 640x480 with 1 Axes>"
      ]
     },
     "metadata": {},
     "output_type": "display_data"
    }
   ],
   "source": [
    "#plt.figure(figsize = (8,3))\n",
    "plt.title(\"Income of people by their sex\", fontsize = 16)\n",
    "sns.countplot(x = ds['Sex'], hue = ds['Income'])\n",
    "plt.show()"
   ]
  },
  {
   "cell_type": "markdown",
   "metadata": {},
   "source": [
    "We can see that male have more salary than female. Also in the dataset, the number of men are more than women."
   ]
  },
  {
   "cell_type": "code",
   "execution_count": 59,
   "metadata": {},
   "outputs": [],
   "source": [
    "ds['Sex_enc'] = ds['Sex'].map({' Male' : 1, ' Female' : 0})"
   ]
  },
  {
   "cell_type": "code",
   "execution_count": 60,
   "metadata": {},
   "outputs": [],
   "source": [
    "ds.drop(['Sex'], axis = 1, inplace = True)"
   ]
  },
  {
   "cell_type": "markdown",
   "metadata": {},
   "source": [
    "**'Marital_status':** Looking at the unique values and their counts-"
   ]
  },
  {
   "cell_type": "code",
   "execution_count": 61,
   "metadata": {},
   "outputs": [
    {
     "data": {
      "text/plain": [
       " Married-civ-spouse       14339\n",
       " Never-married             9911\n",
       " Divorced                  4258\n",
       " Separated                  959\n",
       " Widowed                    840\n",
       " Married-spouse-absent      389\n",
       " Married-AF-spouse           21\n",
       "Name: Marital_status, dtype: int64"
      ]
     },
     "execution_count": 61,
     "metadata": {},
     "output_type": "execute_result"
    }
   ],
   "source": [
    "ds['Marital_status'].value_counts()"
   ]
  },
  {
   "cell_type": "code",
   "execution_count": 66,
   "metadata": {},
   "outputs": [],
   "source": [
    "plt.style.use('default')"
   ]
  },
  {
   "cell_type": "code",
   "execution_count": 63,
   "metadata": {},
   "outputs": [],
   "source": [
    "plt.style.use('seaborn-talk')"
   ]
  },
  {
   "cell_type": "code",
   "execution_count": 67,
   "metadata": {},
   "outputs": [
    {
     "data": {
      "image/png": "[encoded data removed]",
      "text/plain": [
       "<Figure size 640x480 with 1 Axes>"
      ]
     },
     "metadata": {},
     "output_type": "display_data"
    }
   ],
   "source": [
    "plt.title(\"Income of people by Marital Status\", fontsize = 16)\n",
    "sns.countplot(y = ds['Marital_status'], hue = ds['Income'])\n",
    "plt.show()"
   ]
  },
  {
   "cell_type": "markdown",
   "metadata": {},
   "source": [
    "**Married people have a higher income as compared to others.**"
   ]
  },
  {
   "cell_type": "code",
   "execution_count": 68,
   "metadata": {},
   "outputs": [
    {
     "name": "stdout",
     "output_type": "stream",
     "text": [
      "Marital_status\n",
      " Divorced                 0.138620\n",
      " Married-AF-spouse        0.000684\n",
      " Married-civ-spouse       0.466810\n",
      " Married-spouse-absent    0.012664\n",
      " Never-married            0.322655\n",
      " Separated                0.031220\n",
      " Widowed                  0.027346\n",
      "dtype: float64\n"
     ]
    },
    {
     "data": {
      "text/plain": [
       "0    0.46681\n",
       "1    0.13862\n",
       "2    0.46681\n",
       "Name: marital_status_enc, dtype: float64"
      ]
     },
     "execution_count": 68,
     "metadata": {},
     "output_type": "execute_result"
    }
   ],
   "source": [
    "marital_status_enc = (ds.groupby('Marital_status').size()) / len(ds)\n",
    "print(marital_status_enc)\n",
    "\n",
    "ds['marital_status_enc'] = ds['Marital_status'].apply(lambda x : marital_status_enc[x])\n",
    "ds['marital_status_enc'].head(3)"
   ]
  },
  {
   "cell_type": "code",
   "execution_count": 69,
   "metadata": {},
   "outputs": [],
   "source": [
    "ds.drop(['Marital_status'], axis = 1, inplace = True)"
   ]
  },
  {
   "cell_type": "markdown",
   "metadata": {},
   "source": [
    "Similarly, **for 'Race' and 'Relationship'**"
   ]
  },
  {
   "cell_type": "code",
   "execution_count": 81,
   "metadata": {},
   "outputs": [],
   "source": [
    "plt.style.use('bmh')"
   ]
  },
  {
   "cell_type": "code",
   "execution_count": 82,
   "metadata": {},
   "outputs": [
    {
     "data": {
      "image/png": "[encoded data removed]",
      "text/plain": [
       "<Figure size 1400x600 with 2 Axes>"
      ]
     },
     "metadata": {},
     "output_type": "display_data"
    }
   ],
   "source": [
    "plt.figure(figsize = (14,6))\n",
    "\n",
    "plt.subplot(1, 2, 1)\n",
    "sns.countplot(y = ds['Race'], hue = ds['Income'])\n",
    "plt.title(\"Income respective to Race\")\n",
    "\n",
    "plt.subplot(1, 2, 2)\n",
    "sns.countplot(y = ds['Relationship'], hue = ds['Income'])\n",
    "plt.title(\"Income respective to Relationship\")\n",
    "\n",
    "plt.tight_layout(pad = 4)\n",
    "plt.show()"
   ]
  },
  {
   "cell_type": "markdown",
   "metadata": {},
   "source": [
    "**White people have a higher salary as compared to other races**. Similarly, **husband in the family have a higher salary as compared to other relationship in the family.**"
   ]
  },
  {
   "cell_type": "code",
   "execution_count": 83,
   "metadata": {},
   "outputs": [
    {
     "name": "stdout",
     "output_type": "stream",
     "text": [
      "Race\n",
      " Amer-Indian-Eskimo    0.009311\n",
      " Asian-Pac-Islander    0.031709\n",
      " Black                 0.094703\n",
      " Other                 0.008074\n",
      " White                 0.856203\n",
      "dtype: float64\n",
      "Relationship\n",
      " Husband           0.413582\n",
      " Not-in-family     0.256015\n",
      " Other-relative    0.029886\n",
      " Own-child         0.147313\n",
      " Unmarried         0.106488\n",
      " Wife              0.046717\n",
      "dtype: float64\n"
     ]
    }
   ],
   "source": [
    "race_enc = (ds.groupby('Race').size()) / len(ds)\n",
    "print(race_enc)\n",
    "ds['race_enc'] = ds['Race'].apply(lambda x : race_enc[x])\n",
    "\n",
    "relationship_enc = (ds.groupby('Relationship').size()) / len(ds)\n",
    "print(relationship_enc)\n",
    "ds['relationship_enc'] = ds['Relationship'].apply(lambda x : relationship_enc[x])"
   ]
  },
  {
   "cell_type": "code",
   "execution_count": 84,
   "metadata": {},
   "outputs": [
    {
     "data": {
      "text/html": [
       "<div>\n",
       "<style scoped>\n",
       "    .dataframe tbody tr th:only-of-type {\n",
       "        vertical-align: middle;\n",
       "    }\n",
       "\n",
       "    .dataframe tbody tr th {\n",
       "        vertical-align: top;\n",
       "    }\n",
       "\n",
       "    .dataframe thead th {\n",
       "        text-align: right;\n",
       "    }\n",
       "</style>\n",
       "<table border=\"1\" class=\"dataframe\">\n",
       "  <thead>\n",
       "    <tr style=\"text-align: right;\">\n",
       "      <th></th>\n",
       "      <th>Age</th>\n",
       "      <th>Fnlwgt</th>\n",
       "      <th>Education_num</th>\n",
       "      <th>Capital_gain</th>\n",
       "      <th>Capital_loss</th>\n",
       "      <th>Hours_per_week</th>\n",
       "      <th>Income</th>\n",
       "      <th>Workclass_enc</th>\n",
       "      <th>occupation_enc</th>\n",
       "      <th>Country_enc</th>\n",
       "      <th>Sex_enc</th>\n",
       "      <th>marital_status_enc</th>\n",
       "      <th>race_enc</th>\n",
       "      <th>relationship_enc</th>\n",
       "    </tr>\n",
       "  </thead>\n",
       "  <tbody>\n",
       "    <tr>\n",
       "      <th>0</th>\n",
       "      <td>50</td>\n",
       "      <td>83311</td>\n",
       "      <td>13</td>\n",
       "      <td>0</td>\n",
       "      <td>0</td>\n",
       "      <td>13</td>\n",
       "      <td>0</td>\n",
       "      <td>0.078041</td>\n",
       "      <td>0.132370</td>\n",
       "      <td>1</td>\n",
       "      <td>1</td>\n",
       "      <td>0.46681</td>\n",
       "      <td>0.856203</td>\n",
       "      <td>0.413582</td>\n",
       "    </tr>\n",
       "    <tr>\n",
       "      <th>1</th>\n",
       "      <td>38</td>\n",
       "      <td>215646</td>\n",
       "      <td>9</td>\n",
       "      <td>0</td>\n",
       "      <td>0</td>\n",
       "      <td>40</td>\n",
       "      <td>0</td>\n",
       "      <td>0.697052</td>\n",
       "      <td>0.044601</td>\n",
       "      <td>1</td>\n",
       "      <td>1</td>\n",
       "      <td>0.13862</td>\n",
       "      <td>0.856203</td>\n",
       "      <td>0.256015</td>\n",
       "    </tr>\n",
       "    <tr>\n",
       "      <th>2</th>\n",
       "      <td>53</td>\n",
       "      <td>234721</td>\n",
       "      <td>7</td>\n",
       "      <td>0</td>\n",
       "      <td>0</td>\n",
       "      <td>40</td>\n",
       "      <td>0</td>\n",
       "      <td>0.697052</td>\n",
       "      <td>0.044601</td>\n",
       "      <td>1</td>\n",
       "      <td>1</td>\n",
       "      <td>0.46681</td>\n",
       "      <td>0.094703</td>\n",
       "      <td>0.413582</td>\n",
       "    </tr>\n",
       "    <tr>\n",
       "      <th>3</th>\n",
       "      <td>28</td>\n",
       "      <td>338409</td>\n",
       "      <td>13</td>\n",
       "      <td>0</td>\n",
       "      <td>0</td>\n",
       "      <td>40</td>\n",
       "      <td>0</td>\n",
       "      <td>0.697052</td>\n",
       "      <td>0.134779</td>\n",
       "      <td>0</td>\n",
       "      <td>0</td>\n",
       "      <td>0.46681</td>\n",
       "      <td>0.094703</td>\n",
       "      <td>0.046717</td>\n",
       "    </tr>\n",
       "    <tr>\n",
       "      <th>4</th>\n",
       "      <td>37</td>\n",
       "      <td>284582</td>\n",
       "      <td>14</td>\n",
       "      <td>0</td>\n",
       "      <td>0</td>\n",
       "      <td>40</td>\n",
       "      <td>0</td>\n",
       "      <td>0.697052</td>\n",
       "      <td>0.132370</td>\n",
       "      <td>1</td>\n",
       "      <td>0</td>\n",
       "      <td>0.46681</td>\n",
       "      <td>0.856203</td>\n",
       "      <td>0.046717</td>\n",
       "    </tr>\n",
       "  </tbody>\n",
       "</table>\n",
       "</div>"
      ],
      "text/plain": [
       "   Age  Fnlwgt  Education_num  Capital_gain  Capital_loss  Hours_per_week  \\\n",
       "0   50   83311             13             0             0              13   \n",
       "1   38  215646              9             0             0              40   \n",
       "2   53  234721              7             0             0              40   \n",
       "3   28  338409             13             0             0              40   \n",
       "4   37  284582             14             0             0              40   \n",
       "\n",
       "   Income  Workclass_enc  occupation_enc  Country_enc  Sex_enc  \\\n",
       "0       0       0.078041        0.132370            1        1   \n",
       "1       0       0.697052        0.044601            1        1   \n",
       "2       0       0.697052        0.044601            1        1   \n",
       "3       0       0.697052        0.134779            0        0   \n",
       "4       0       0.697052        0.132370            1        0   \n",
       "\n",
       "   marital_status_enc  race_enc  relationship_enc  \n",
       "0             0.46681  0.856203          0.413582  \n",
       "1             0.13862  0.856203          0.256015  \n",
       "2             0.46681  0.094703          0.413582  \n",
       "3             0.46681  0.094703          0.046717  \n",
       "4             0.46681  0.856203          0.046717  "
      ]
     },
     "execution_count": 84,
     "metadata": {},
     "output_type": "execute_result"
    }
   ],
   "source": [
    "ds.drop(['Race', 'Relationship'], axis = 1, inplace = True)\n",
    "ds.head()"
   ]
  },
  {
   "cell_type": "code",
   "execution_count": 85,
   "metadata": {},
   "outputs": [
    {
     "data": {
      "text/html": [
       "<div>\n",
       "<style scoped>\n",
       "    .dataframe tbody tr th:only-of-type {\n",
       "        vertical-align: middle;\n",
       "    }\n",
       "\n",
       "    .dataframe tbody tr th {\n",
       "        vertical-align: top;\n",
       "    }\n",
       "\n",
       "    .dataframe thead th {\n",
       "        text-align: right;\n",
       "    }\n",
       "</style>\n",
       "<table border=\"1\" class=\"dataframe\">\n",
       "  <thead>\n",
       "    <tr style=\"text-align: right;\">\n",
       "      <th></th>\n",
       "      <th>Age</th>\n",
       "      <th>Fnlwgt</th>\n",
       "      <th>Education_num</th>\n",
       "      <th>Capital_gain</th>\n",
       "      <th>Capital_loss</th>\n",
       "      <th>Hours_per_week</th>\n",
       "      <th>Workclass_enc</th>\n",
       "      <th>occupation_enc</th>\n",
       "      <th>Country_enc</th>\n",
       "      <th>Sex_enc</th>\n",
       "      <th>marital_status_enc</th>\n",
       "      <th>race_enc</th>\n",
       "      <th>relationship_enc</th>\n",
       "      <th>Income</th>\n",
       "    </tr>\n",
       "  </thead>\n",
       "  <tbody>\n",
       "    <tr>\n",
       "      <th>0</th>\n",
       "      <td>50</td>\n",
       "      <td>83311</td>\n",
       "      <td>13</td>\n",
       "      <td>0</td>\n",
       "      <td>0</td>\n",
       "      <td>13</td>\n",
       "      <td>0.078041</td>\n",
       "      <td>0.132370</td>\n",
       "      <td>1</td>\n",
       "      <td>1</td>\n",
       "      <td>0.466810</td>\n",
       "      <td>0.856203</td>\n",
       "      <td>0.413582</td>\n",
       "      <td>0</td>\n",
       "    </tr>\n",
       "    <tr>\n",
       "      <th>1</th>\n",
       "      <td>38</td>\n",
       "      <td>215646</td>\n",
       "      <td>9</td>\n",
       "      <td>0</td>\n",
       "      <td>0</td>\n",
       "      <td>40</td>\n",
       "      <td>0.697052</td>\n",
       "      <td>0.044601</td>\n",
       "      <td>1</td>\n",
       "      <td>1</td>\n",
       "      <td>0.138620</td>\n",
       "      <td>0.856203</td>\n",
       "      <td>0.256015</td>\n",
       "      <td>0</td>\n",
       "    </tr>\n",
       "    <tr>\n",
       "      <th>2</th>\n",
       "      <td>53</td>\n",
       "      <td>234721</td>\n",
       "      <td>7</td>\n",
       "      <td>0</td>\n",
       "      <td>0</td>\n",
       "      <td>40</td>\n",
       "      <td>0.697052</td>\n",
       "      <td>0.044601</td>\n",
       "      <td>1</td>\n",
       "      <td>1</td>\n",
       "      <td>0.466810</td>\n",
       "      <td>0.094703</td>\n",
       "      <td>0.413582</td>\n",
       "      <td>0</td>\n",
       "    </tr>\n",
       "    <tr>\n",
       "      <th>3</th>\n",
       "      <td>28</td>\n",
       "      <td>338409</td>\n",
       "      <td>13</td>\n",
       "      <td>0</td>\n",
       "      <td>0</td>\n",
       "      <td>40</td>\n",
       "      <td>0.697052</td>\n",
       "      <td>0.134779</td>\n",
       "      <td>0</td>\n",
       "      <td>0</td>\n",
       "      <td>0.466810</td>\n",
       "      <td>0.094703</td>\n",
       "      <td>0.046717</td>\n",
       "      <td>0</td>\n",
       "    </tr>\n",
       "    <tr>\n",
       "      <th>4</th>\n",
       "      <td>37</td>\n",
       "      <td>284582</td>\n",
       "      <td>14</td>\n",
       "      <td>0</td>\n",
       "      <td>0</td>\n",
       "      <td>40</td>\n",
       "      <td>0.697052</td>\n",
       "      <td>0.132370</td>\n",
       "      <td>1</td>\n",
       "      <td>0</td>\n",
       "      <td>0.466810</td>\n",
       "      <td>0.856203</td>\n",
       "      <td>0.046717</td>\n",
       "      <td>0</td>\n",
       "    </tr>\n",
       "    <tr>\n",
       "      <th>...</th>\n",
       "      <td>...</td>\n",
       "      <td>...</td>\n",
       "      <td>...</td>\n",
       "      <td>...</td>\n",
       "      <td>...</td>\n",
       "      <td>...</td>\n",
       "      <td>...</td>\n",
       "      <td>...</td>\n",
       "      <td>...</td>\n",
       "      <td>...</td>\n",
       "      <td>...</td>\n",
       "      <td>...</td>\n",
       "      <td>...</td>\n",
       "      <td>...</td>\n",
       "    </tr>\n",
       "    <tr>\n",
       "      <th>32555</th>\n",
       "      <td>27</td>\n",
       "      <td>257302</td>\n",
       "      <td>12</td>\n",
       "      <td>0</td>\n",
       "      <td>0</td>\n",
       "      <td>38</td>\n",
       "      <td>0.697052</td>\n",
       "      <td>0.030211</td>\n",
       "      <td>1</td>\n",
       "      <td>0</td>\n",
       "      <td>0.466810</td>\n",
       "      <td>0.856203</td>\n",
       "      <td>0.046717</td>\n",
       "      <td>0</td>\n",
       "    </tr>\n",
       "    <tr>\n",
       "      <th>32556</th>\n",
       "      <td>40</td>\n",
       "      <td>154374</td>\n",
       "      <td>9</td>\n",
       "      <td>0</td>\n",
       "      <td>0</td>\n",
       "      <td>40</td>\n",
       "      <td>0.697052</td>\n",
       "      <td>0.065176</td>\n",
       "      <td>1</td>\n",
       "      <td>1</td>\n",
       "      <td>0.466810</td>\n",
       "      <td>0.856203</td>\n",
       "      <td>0.413582</td>\n",
       "      <td>1</td>\n",
       "    </tr>\n",
       "    <tr>\n",
       "      <th>32557</th>\n",
       "      <td>58</td>\n",
       "      <td>151910</td>\n",
       "      <td>9</td>\n",
       "      <td>0</td>\n",
       "      <td>0</td>\n",
       "      <td>40</td>\n",
       "      <td>0.697052</td>\n",
       "      <td>0.122701</td>\n",
       "      <td>1</td>\n",
       "      <td>0</td>\n",
       "      <td>0.027346</td>\n",
       "      <td>0.856203</td>\n",
       "      <td>0.106488</td>\n",
       "      <td>0</td>\n",
       "    </tr>\n",
       "    <tr>\n",
       "      <th>32558</th>\n",
       "      <td>22</td>\n",
       "      <td>201490</td>\n",
       "      <td>9</td>\n",
       "      <td>0</td>\n",
       "      <td>0</td>\n",
       "      <td>20</td>\n",
       "      <td>0.697052</td>\n",
       "      <td>0.122701</td>\n",
       "      <td>1</td>\n",
       "      <td>1</td>\n",
       "      <td>0.322655</td>\n",
       "      <td>0.856203</td>\n",
       "      <td>0.147313</td>\n",
       "      <td>0</td>\n",
       "    </tr>\n",
       "    <tr>\n",
       "      <th>32559</th>\n",
       "      <td>52</td>\n",
       "      <td>287927</td>\n",
       "      <td>9</td>\n",
       "      <td>15024</td>\n",
       "      <td>0</td>\n",
       "      <td>40</td>\n",
       "      <td>0.034275</td>\n",
       "      <td>0.132370</td>\n",
       "      <td>1</td>\n",
       "      <td>0</td>\n",
       "      <td>0.466810</td>\n",
       "      <td>0.856203</td>\n",
       "      <td>0.046717</td>\n",
       "      <td>1</td>\n",
       "    </tr>\n",
       "  </tbody>\n",
       "</table>\n",
       "<p>30717 rows × 14 columns</p>\n",
       "</div>"
      ],
      "text/plain": [
       "       Age  Fnlwgt  Education_num  Capital_gain  Capital_loss  Hours_per_week  \\\n",
       "0       50   83311             13             0             0              13   \n",
       "1       38  215646              9             0             0              40   \n",
       "2       53  234721              7             0             0              40   \n",
       "3       28  338409             13             0             0              40   \n",
       "4       37  284582             14             0             0              40   \n",
       "...    ...     ...            ...           ...           ...             ...   \n",
       "32555   27  257302             12             0             0              38   \n",
       "32556   40  154374              9             0             0              40   \n",
       "32557   58  151910              9             0             0              40   \n",
       "32558   22  201490              9             0             0              20   \n",
       "32559   52  287927              9         15024             0              40   \n",
       "\n",
       "       Workclass_enc  occupation_enc  Country_enc  Sex_enc  \\\n",
       "0           0.078041        0.132370            1        1   \n",
       "1           0.697052        0.044601            1        1   \n",
       "2           0.697052        0.044601            1        1   \n",
       "3           0.697052        0.134779            0        0   \n",
       "4           0.697052        0.132370            1        0   \n",
       "...              ...             ...          ...      ...   \n",
       "32555       0.697052        0.030211            1        0   \n",
       "32556       0.697052        0.065176            1        1   \n",
       "32557       0.697052        0.122701            1        0   \n",
       "32558       0.697052        0.122701            1        1   \n",
       "32559       0.034275        0.132370            1        0   \n",
       "\n",
       "       marital_status_enc  race_enc  relationship_enc  Income  \n",
       "0                0.466810  0.856203          0.413582       0  \n",
       "1                0.138620  0.856203          0.256015       0  \n",
       "2                0.466810  0.094703          0.413582       0  \n",
       "3                0.466810  0.094703          0.046717       0  \n",
       "4                0.466810  0.856203          0.046717       0  \n",
       "...                   ...       ...               ...     ...  \n",
       "32555            0.466810  0.856203          0.046717       0  \n",
       "32556            0.466810  0.856203          0.413582       1  \n",
       "32557            0.027346  0.856203          0.106488       0  \n",
       "32558            0.322655  0.856203          0.147313       0  \n",
       "32559            0.466810  0.856203          0.046717       1  \n",
       "\n",
       "[30717 rows x 14 columns]"
      ]
     },
     "execution_count": 85,
     "metadata": {},
     "output_type": "execute_result"
    }
   ],
   "source": [
    "new_ds = ds.drop(['Income'], axis = 1)\n",
    "new_ds['Income'] = ds['Income']\n",
    "new_ds"
   ]
  },
  {
   "cell_type": "markdown",
   "metadata": {},
   "source": [
    "## Outliers:\n",
    "We check if any outliers are present in the continous attributes of the dataset. We check it both by visualisations and the zscore for the continous columns."
   ]
  },
  {
   "cell_type": "code",
   "execution_count": 88,
   "metadata": {},
   "outputs": [],
   "source": [
    "plt.style.use('default')"
   ]
  },
  {
   "cell_type": "code",
   "execution_count": 89,
   "metadata": {},
   "outputs": [],
   "source": [
    "plt.style.use('ggplot')"
   ]
  },
  {
   "cell_type": "code",
   "execution_count": 92,
   "metadata": {},
   "outputs": [
    {
     "name": "stdout",
     "output_type": "stream",
     "text": [
      "BoxPlots of the features:\n"
     ]
    },
    {
     "data": {
      "image/png": "[encoded data removed]",
      "text/plain": [
       "<Figure size 1200x400 with 5 Axes>"
      ]
     },
     "metadata": {},
     "output_type": "display_data"
    }
   ],
   "source": [
    "clist = ['Fnlwgt','Age','Capital_gain','Capital_loss','Hours_per_week']\n",
    "plt.figure(figsize = (12,4))\n",
    "for i in range(0, len(clist)):\n",
    "    plt.subplot(2,3, i+1)\n",
    "    sns.boxplot(ds[clist[i]], color = 'skyblue')\n",
    "print(\"BoxPlots of the features:\")\n",
    "plt.show()"
   ]
  },
  {
   "cell_type": "markdown",
   "metadata": {},
   "source": [
    "**Outliers are present in the continous columns of the feature**. We will check the z-score of the features and and clip them from the data."
   ]
  },
  {
   "cell_type": "code",
   "execution_count": 93,
   "metadata": {},
   "outputs": [],
   "source": [
    "from scipy.stats import zscore"
   ]
  },
  {
   "cell_type": "code",
   "execution_count": 94,
   "metadata": {},
   "outputs": [
    {
     "data": {
      "text/html": [
       "<div>\n",
       "<style scoped>\n",
       "    .dataframe tbody tr th:only-of-type {\n",
       "        vertical-align: middle;\n",
       "    }\n",
       "\n",
       "    .dataframe tbody tr th {\n",
       "        vertical-align: top;\n",
       "    }\n",
       "\n",
       "    .dataframe thead th {\n",
       "        text-align: right;\n",
       "    }\n",
       "</style>\n",
       "<table border=\"1\" class=\"dataframe\">\n",
       "  <thead>\n",
       "    <tr style=\"text-align: right;\">\n",
       "      <th></th>\n",
       "      <th>Age</th>\n",
       "      <th>Fnlwgt</th>\n",
       "      <th>Education_num</th>\n",
       "      <th>Capital_gain</th>\n",
       "      <th>Capital_loss</th>\n",
       "      <th>Hours_per_week</th>\n",
       "      <th>Workclass_enc</th>\n",
       "      <th>occupation_enc</th>\n",
       "      <th>Country_enc</th>\n",
       "      <th>Sex_enc</th>\n",
       "      <th>marital_status_enc</th>\n",
       "      <th>race_enc</th>\n",
       "      <th>relationship_enc</th>\n",
       "      <th>Income</th>\n",
       "    </tr>\n",
       "  </thead>\n",
       "  <tbody>\n",
       "    <tr>\n",
       "      <th>0</th>\n",
       "      <td>50</td>\n",
       "      <td>83311</td>\n",
       "      <td>13</td>\n",
       "      <td>0</td>\n",
       "      <td>0</td>\n",
       "      <td>13</td>\n",
       "      <td>0.078041</td>\n",
       "      <td>0.132370</td>\n",
       "      <td>1</td>\n",
       "      <td>1</td>\n",
       "      <td>0.46681</td>\n",
       "      <td>0.856203</td>\n",
       "      <td>0.413582</td>\n",
       "      <td>0</td>\n",
       "    </tr>\n",
       "    <tr>\n",
       "      <th>1</th>\n",
       "      <td>38</td>\n",
       "      <td>215646</td>\n",
       "      <td>9</td>\n",
       "      <td>0</td>\n",
       "      <td>0</td>\n",
       "      <td>40</td>\n",
       "      <td>0.697052</td>\n",
       "      <td>0.044601</td>\n",
       "      <td>1</td>\n",
       "      <td>1</td>\n",
       "      <td>0.13862</td>\n",
       "      <td>0.856203</td>\n",
       "      <td>0.256015</td>\n",
       "      <td>0</td>\n",
       "    </tr>\n",
       "    <tr>\n",
       "      <th>2</th>\n",
       "      <td>53</td>\n",
       "      <td>234721</td>\n",
       "      <td>7</td>\n",
       "      <td>0</td>\n",
       "      <td>0</td>\n",
       "      <td>40</td>\n",
       "      <td>0.697052</td>\n",
       "      <td>0.044601</td>\n",
       "      <td>1</td>\n",
       "      <td>1</td>\n",
       "      <td>0.46681</td>\n",
       "      <td>0.094703</td>\n",
       "      <td>0.413582</td>\n",
       "      <td>0</td>\n",
       "    </tr>\n",
       "    <tr>\n",
       "      <th>3</th>\n",
       "      <td>28</td>\n",
       "      <td>338409</td>\n",
       "      <td>13</td>\n",
       "      <td>0</td>\n",
       "      <td>0</td>\n",
       "      <td>40</td>\n",
       "      <td>0.697052</td>\n",
       "      <td>0.134779</td>\n",
       "      <td>0</td>\n",
       "      <td>0</td>\n",
       "      <td>0.46681</td>\n",
       "      <td>0.094703</td>\n",
       "      <td>0.046717</td>\n",
       "      <td>0</td>\n",
       "    </tr>\n",
       "    <tr>\n",
       "      <th>4</th>\n",
       "      <td>37</td>\n",
       "      <td>284582</td>\n",
       "      <td>14</td>\n",
       "      <td>0</td>\n",
       "      <td>0</td>\n",
       "      <td>40</td>\n",
       "      <td>0.697052</td>\n",
       "      <td>0.132370</td>\n",
       "      <td>1</td>\n",
       "      <td>0</td>\n",
       "      <td>0.46681</td>\n",
       "      <td>0.856203</td>\n",
       "      <td>0.046717</td>\n",
       "      <td>0</td>\n",
       "    </tr>\n",
       "  </tbody>\n",
       "</table>\n",
       "</div>"
      ],
      "text/plain": [
       "   Age  Fnlwgt  Education_num  Capital_gain  Capital_loss  Hours_per_week  \\\n",
       "0   50   83311             13             0             0              13   \n",
       "1   38  215646              9             0             0              40   \n",
       "2   53  234721              7             0             0              40   \n",
       "3   28  338409             13             0             0              40   \n",
       "4   37  284582             14             0             0              40   \n",
       "\n",
       "   Workclass_enc  occupation_enc  Country_enc  Sex_enc  marital_status_enc  \\\n",
       "0       0.078041        0.132370            1        1             0.46681   \n",
       "1       0.697052        0.044601            1        1             0.13862   \n",
       "2       0.697052        0.044601            1        1             0.46681   \n",
       "3       0.697052        0.134779            0        0             0.46681   \n",
       "4       0.697052        0.132370            1        0             0.46681   \n",
       "\n",
       "   race_enc  relationship_enc  Income  \n",
       "0  0.856203          0.413582       0  \n",
       "1  0.856203          0.256015       0  \n",
       "2  0.094703          0.413582       0  \n",
       "3  0.094703          0.046717       0  \n",
       "4  0.856203          0.046717       0  "
      ]
     },
     "execution_count": 94,
     "metadata": {},
     "output_type": "execute_result"
    }
   ],
   "source": [
    "new_ds.head()"
   ]
  },
  {
   "cell_type": "code",
   "execution_count": 95,
   "metadata": {},
   "outputs": [],
   "source": [
    "zabs = np.abs(zscore(new_ds.loc[:,'Fnlwgt':'Hours_per_week']))"
   ]
  },
  {
   "cell_type": "code",
   "execution_count": 96,
   "metadata": {},
   "outputs": [
    {
     "data": {
      "text/plain": [
       "(2, 2566)"
      ]
     },
     "execution_count": 96,
     "metadata": {},
     "output_type": "execute_result"
    }
   ],
   "source": [
    "np.shape(np.where(zabs >= 3))"
   ]
  },
  {
   "cell_type": "code",
   "execution_count": 97,
   "metadata": {},
   "outputs": [
    {
     "data": {
      "text/html": [
       "<div>\n",
       "<style scoped>\n",
       "    .dataframe tbody tr th:only-of-type {\n",
       "        vertical-align: middle;\n",
       "    }\n",
       "\n",
       "    .dataframe tbody tr th {\n",
       "        vertical-align: top;\n",
       "    }\n",
       "\n",
       "    .dataframe thead th {\n",
       "        text-align: right;\n",
       "    }\n",
       "</style>\n",
       "<table border=\"1\" class=\"dataframe\">\n",
       "  <thead>\n",
       "    <tr style=\"text-align: right;\">\n",
       "      <th></th>\n",
       "      <th>Age</th>\n",
       "      <th>Fnlwgt</th>\n",
       "      <th>Education_num</th>\n",
       "      <th>Capital_gain</th>\n",
       "      <th>Capital_loss</th>\n",
       "      <th>Hours_per_week</th>\n",
       "      <th>Workclass_enc</th>\n",
       "      <th>occupation_enc</th>\n",
       "      <th>Country_enc</th>\n",
       "      <th>Sex_enc</th>\n",
       "      <th>marital_status_enc</th>\n",
       "      <th>race_enc</th>\n",
       "      <th>relationship_enc</th>\n",
       "      <th>Income</th>\n",
       "    </tr>\n",
       "  </thead>\n",
       "  <tbody>\n",
       "    <tr>\n",
       "      <th>0</th>\n",
       "      <td>50</td>\n",
       "      <td>83311</td>\n",
       "      <td>13</td>\n",
       "      <td>0</td>\n",
       "      <td>0</td>\n",
       "      <td>13</td>\n",
       "      <td>0.078041</td>\n",
       "      <td>0.132370</td>\n",
       "      <td>1</td>\n",
       "      <td>1</td>\n",
       "      <td>0.466810</td>\n",
       "      <td>0.856203</td>\n",
       "      <td>0.413582</td>\n",
       "      <td>0</td>\n",
       "    </tr>\n",
       "    <tr>\n",
       "      <th>1</th>\n",
       "      <td>38</td>\n",
       "      <td>215646</td>\n",
       "      <td>9</td>\n",
       "      <td>0</td>\n",
       "      <td>0</td>\n",
       "      <td>40</td>\n",
       "      <td>0.697052</td>\n",
       "      <td>0.044601</td>\n",
       "      <td>1</td>\n",
       "      <td>1</td>\n",
       "      <td>0.138620</td>\n",
       "      <td>0.856203</td>\n",
       "      <td>0.256015</td>\n",
       "      <td>0</td>\n",
       "    </tr>\n",
       "    <tr>\n",
       "      <th>2</th>\n",
       "      <td>53</td>\n",
       "      <td>234721</td>\n",
       "      <td>7</td>\n",
       "      <td>0</td>\n",
       "      <td>0</td>\n",
       "      <td>40</td>\n",
       "      <td>0.697052</td>\n",
       "      <td>0.044601</td>\n",
       "      <td>1</td>\n",
       "      <td>1</td>\n",
       "      <td>0.466810</td>\n",
       "      <td>0.094703</td>\n",
       "      <td>0.413582</td>\n",
       "      <td>0</td>\n",
       "    </tr>\n",
       "    <tr>\n",
       "      <th>3</th>\n",
       "      <td>28</td>\n",
       "      <td>338409</td>\n",
       "      <td>13</td>\n",
       "      <td>0</td>\n",
       "      <td>0</td>\n",
       "      <td>40</td>\n",
       "      <td>0.697052</td>\n",
       "      <td>0.134779</td>\n",
       "      <td>0</td>\n",
       "      <td>0</td>\n",
       "      <td>0.466810</td>\n",
       "      <td>0.094703</td>\n",
       "      <td>0.046717</td>\n",
       "      <td>0</td>\n",
       "    </tr>\n",
       "    <tr>\n",
       "      <th>4</th>\n",
       "      <td>37</td>\n",
       "      <td>284582</td>\n",
       "      <td>14</td>\n",
       "      <td>0</td>\n",
       "      <td>0</td>\n",
       "      <td>40</td>\n",
       "      <td>0.697052</td>\n",
       "      <td>0.132370</td>\n",
       "      <td>1</td>\n",
       "      <td>0</td>\n",
       "      <td>0.466810</td>\n",
       "      <td>0.856203</td>\n",
       "      <td>0.046717</td>\n",
       "      <td>0</td>\n",
       "    </tr>\n",
       "    <tr>\n",
       "      <th>...</th>\n",
       "      <td>...</td>\n",
       "      <td>...</td>\n",
       "      <td>...</td>\n",
       "      <td>...</td>\n",
       "      <td>...</td>\n",
       "      <td>...</td>\n",
       "      <td>...</td>\n",
       "      <td>...</td>\n",
       "      <td>...</td>\n",
       "      <td>...</td>\n",
       "      <td>...</td>\n",
       "      <td>...</td>\n",
       "      <td>...</td>\n",
       "      <td>...</td>\n",
       "    </tr>\n",
       "    <tr>\n",
       "      <th>32555</th>\n",
       "      <td>27</td>\n",
       "      <td>257302</td>\n",
       "      <td>12</td>\n",
       "      <td>0</td>\n",
       "      <td>0</td>\n",
       "      <td>38</td>\n",
       "      <td>0.697052</td>\n",
       "      <td>0.030211</td>\n",
       "      <td>1</td>\n",
       "      <td>0</td>\n",
       "      <td>0.466810</td>\n",
       "      <td>0.856203</td>\n",
       "      <td>0.046717</td>\n",
       "      <td>0</td>\n",
       "    </tr>\n",
       "    <tr>\n",
       "      <th>32556</th>\n",
       "      <td>40</td>\n",
       "      <td>154374</td>\n",
       "      <td>9</td>\n",
       "      <td>0</td>\n",
       "      <td>0</td>\n",
       "      <td>40</td>\n",
       "      <td>0.697052</td>\n",
       "      <td>0.065176</td>\n",
       "      <td>1</td>\n",
       "      <td>1</td>\n",
       "      <td>0.466810</td>\n",
       "      <td>0.856203</td>\n",
       "      <td>0.413582</td>\n",
       "      <td>1</td>\n",
       "    </tr>\n",
       "    <tr>\n",
       "      <th>32557</th>\n",
       "      <td>58</td>\n",
       "      <td>151910</td>\n",
       "      <td>9</td>\n",
       "      <td>0</td>\n",
       "      <td>0</td>\n",
       "      <td>40</td>\n",
       "      <td>0.697052</td>\n",
       "      <td>0.122701</td>\n",
       "      <td>1</td>\n",
       "      <td>0</td>\n",
       "      <td>0.027346</td>\n",
       "      <td>0.856203</td>\n",
       "      <td>0.106488</td>\n",
       "      <td>0</td>\n",
       "    </tr>\n",
       "    <tr>\n",
       "      <th>32558</th>\n",
       "      <td>22</td>\n",
       "      <td>201490</td>\n",
       "      <td>9</td>\n",
       "      <td>0</td>\n",
       "      <td>0</td>\n",
       "      <td>20</td>\n",
       "      <td>0.697052</td>\n",
       "      <td>0.122701</td>\n",
       "      <td>1</td>\n",
       "      <td>1</td>\n",
       "      <td>0.322655</td>\n",
       "      <td>0.856203</td>\n",
       "      <td>0.147313</td>\n",
       "      <td>0</td>\n",
       "    </tr>\n",
       "    <tr>\n",
       "      <th>32559</th>\n",
       "      <td>52</td>\n",
       "      <td>287927</td>\n",
       "      <td>9</td>\n",
       "      <td>15024</td>\n",
       "      <td>0</td>\n",
       "      <td>40</td>\n",
       "      <td>0.034275</td>\n",
       "      <td>0.132370</td>\n",
       "      <td>1</td>\n",
       "      <td>0</td>\n",
       "      <td>0.466810</td>\n",
       "      <td>0.856203</td>\n",
       "      <td>0.046717</td>\n",
       "      <td>1</td>\n",
       "    </tr>\n",
       "  </tbody>\n",
       "</table>\n",
       "<p>28213 rows × 14 columns</p>\n",
       "</div>"
      ],
      "text/plain": [
       "       Age  Fnlwgt  Education_num  Capital_gain  Capital_loss  Hours_per_week  \\\n",
       "0       50   83311             13             0             0              13   \n",
       "1       38  215646              9             0             0              40   \n",
       "2       53  234721              7             0             0              40   \n",
       "3       28  338409             13             0             0              40   \n",
       "4       37  284582             14             0             0              40   \n",
       "...    ...     ...            ...           ...           ...             ...   \n",
       "32555   27  257302             12             0             0              38   \n",
       "32556   40  154374              9             0             0              40   \n",
       "32557   58  151910              9             0             0              40   \n",
       "32558   22  201490              9             0             0              20   \n",
       "32559   52  287927              9         15024             0              40   \n",
       "\n",
       "       Workclass_enc  occupation_enc  Country_enc  Sex_enc  \\\n",
       "0           0.078041        0.132370            1        1   \n",
       "1           0.697052        0.044601            1        1   \n",
       "2           0.697052        0.044601            1        1   \n",
       "3           0.697052        0.134779            0        0   \n",
       "4           0.697052        0.132370            1        0   \n",
       "...              ...             ...          ...      ...   \n",
       "32555       0.697052        0.030211            1        0   \n",
       "32556       0.697052        0.065176            1        1   \n",
       "32557       0.697052        0.122701            1        0   \n",
       "32558       0.697052        0.122701            1        1   \n",
       "32559       0.034275        0.132370            1        0   \n",
       "\n",
       "       marital_status_enc  race_enc  relationship_enc  Income  \n",
       "0                0.466810  0.856203          0.413582       0  \n",
       "1                0.138620  0.856203          0.256015       0  \n",
       "2                0.466810  0.094703          0.413582       0  \n",
       "3                0.466810  0.094703          0.046717       0  \n",
       "4                0.466810  0.856203          0.046717       0  \n",
       "...                   ...       ...               ...     ...  \n",
       "32555            0.466810  0.856203          0.046717       0  \n",
       "32556            0.466810  0.856203          0.413582       1  \n",
       "32557            0.027346  0.856203          0.106488       0  \n",
       "32558            0.322655  0.856203          0.147313       0  \n",
       "32559            0.466810  0.856203          0.046717       1  \n",
       "\n",
       "[28213 rows x 14 columns]"
      ]
     },
     "execution_count": 97,
     "metadata": {},
     "output_type": "execute_result"
    }
   ],
   "source": [
    "new_ds = new_ds[(zabs < 3).all(axis = 1)]\n",
    "new_ds"
   ]
  },
  {
   "cell_type": "markdown",
   "metadata": {},
   "source": [
    "After removing the outliers, we have 28213 observations left.\n",
    "## Correlation:\n",
    "Checking the correlation between the features and target variable to see which of them columns are more related to target."
   ]
  },
  {
   "cell_type": "code",
   "execution_count": 98,
   "metadata": {},
   "outputs": [
    {
     "data": {
      "image/png": "[encoded data removed]",
      "text/plain": [
       "<Figure size 1400x800 with 2 Axes>"
      ]
     },
     "metadata": {},
     "output_type": "display_data"
    }
   ],
   "source": [
    "plt.figure(figsize = (14, 8))\n",
    "sns.heatmap(new_ds.corr(), annot = True)\n",
    "plt.show()"
   ]
  },
  {
   "cell_type": "markdown",
   "metadata": {},
   "source": [
    "'Capital_gain', 'Education_num', 'Marital_status_enc', 'Relationship_enc' are most correlated to the Income of the observations.\n",
    "## Scaling:\n",
    "As we see that the values of attributes in the dataset vary largely, so it is important to scale the data. Using the Min-Max scaler in order to bring normalisation in the data."
   ]
  },
  {
   "cell_type": "code",
   "execution_count": 99,
   "metadata": {},
   "outputs": [],
   "source": [
    "from sklearn.preprocessing import MinMaxScaler"
   ]
  },
  {
   "cell_type": "code",
   "execution_count": 100,
   "metadata": {},
   "outputs": [
    {
     "data": {
      "text/html": [
       "<div>\n",
       "<style scoped>\n",
       "    .dataframe tbody tr th:only-of-type {\n",
       "        vertical-align: middle;\n",
       "    }\n",
       "\n",
       "    .dataframe tbody tr th {\n",
       "        vertical-align: top;\n",
       "    }\n",
       "\n",
       "    .dataframe thead th {\n",
       "        text-align: right;\n",
       "    }\n",
       "</style>\n",
       "<table border=\"1\" class=\"dataframe\">\n",
       "  <thead>\n",
       "    <tr style=\"text-align: right;\">\n",
       "      <th></th>\n",
       "      <th>Age</th>\n",
       "      <th>Fnlwgt</th>\n",
       "      <th>Education_num</th>\n",
       "      <th>Capital_gain</th>\n",
       "      <th>Capital_loss</th>\n",
       "      <th>Hours_per_week</th>\n",
       "      <th>Workclass_enc</th>\n",
       "      <th>occupation_enc</th>\n",
       "      <th>Country_enc</th>\n",
       "      <th>Sex_enc</th>\n",
       "      <th>marital_status_enc</th>\n",
       "      <th>race_enc</th>\n",
       "      <th>relationship_enc</th>\n",
       "      <th>Income</th>\n",
       "    </tr>\n",
       "  </thead>\n",
       "  <tbody>\n",
       "    <tr>\n",
       "      <th>0</th>\n",
       "      <td>0.452055</td>\n",
       "      <td>0.141285</td>\n",
       "      <td>0.769231</td>\n",
       "      <td>0.00000</td>\n",
       "      <td>0.0</td>\n",
       "      <td>0.112676</td>\n",
       "      <td>0.078041</td>\n",
       "      <td>0.132370</td>\n",
       "      <td>1</td>\n",
       "      <td>1</td>\n",
       "      <td>0.466810</td>\n",
       "      <td>0.856203</td>\n",
       "      <td>0.413582</td>\n",
       "      <td>0</td>\n",
       "    </tr>\n",
       "    <tr>\n",
       "      <th>1</th>\n",
       "      <td>0.287671</td>\n",
       "      <td>0.410143</td>\n",
       "      <td>0.461538</td>\n",
       "      <td>0.00000</td>\n",
       "      <td>0.0</td>\n",
       "      <td>0.492958</td>\n",
       "      <td>0.697052</td>\n",
       "      <td>0.044601</td>\n",
       "      <td>1</td>\n",
       "      <td>1</td>\n",
       "      <td>0.138620</td>\n",
       "      <td>0.856203</td>\n",
       "      <td>0.256015</td>\n",
       "      <td>0</td>\n",
       "    </tr>\n",
       "    <tr>\n",
       "      <th>2</th>\n",
       "      <td>0.493151</td>\n",
       "      <td>0.448897</td>\n",
       "      <td>0.307692</td>\n",
       "      <td>0.00000</td>\n",
       "      <td>0.0</td>\n",
       "      <td>0.492958</td>\n",
       "      <td>0.697052</td>\n",
       "      <td>0.044601</td>\n",
       "      <td>1</td>\n",
       "      <td>1</td>\n",
       "      <td>0.466810</td>\n",
       "      <td>0.094703</td>\n",
       "      <td>0.413582</td>\n",
       "      <td>0</td>\n",
       "    </tr>\n",
       "    <tr>\n",
       "      <th>3</th>\n",
       "      <td>0.150685</td>\n",
       "      <td>0.659555</td>\n",
       "      <td>0.769231</td>\n",
       "      <td>0.00000</td>\n",
       "      <td>0.0</td>\n",
       "      <td>0.492958</td>\n",
       "      <td>0.697052</td>\n",
       "      <td>0.134779</td>\n",
       "      <td>0</td>\n",
       "      <td>0</td>\n",
       "      <td>0.466810</td>\n",
       "      <td>0.094703</td>\n",
       "      <td>0.046717</td>\n",
       "      <td>0</td>\n",
       "    </tr>\n",
       "    <tr>\n",
       "      <th>4</th>\n",
       "      <td>0.273973</td>\n",
       "      <td>0.550197</td>\n",
       "      <td>0.846154</td>\n",
       "      <td>0.00000</td>\n",
       "      <td>0.0</td>\n",
       "      <td>0.492958</td>\n",
       "      <td>0.697052</td>\n",
       "      <td>0.132370</td>\n",
       "      <td>1</td>\n",
       "      <td>0</td>\n",
       "      <td>0.466810</td>\n",
       "      <td>0.856203</td>\n",
       "      <td>0.046717</td>\n",
       "      <td>0</td>\n",
       "    </tr>\n",
       "    <tr>\n",
       "      <th>...</th>\n",
       "      <td>...</td>\n",
       "      <td>...</td>\n",
       "      <td>...</td>\n",
       "      <td>...</td>\n",
       "      <td>...</td>\n",
       "      <td>...</td>\n",
       "      <td>...</td>\n",
       "      <td>...</td>\n",
       "      <td>...</td>\n",
       "      <td>...</td>\n",
       "      <td>...</td>\n",
       "      <td>...</td>\n",
       "      <td>...</td>\n",
       "      <td>...</td>\n",
       "    </tr>\n",
       "    <tr>\n",
       "      <th>32555</th>\n",
       "      <td>0.136986</td>\n",
       "      <td>0.494774</td>\n",
       "      <td>0.692308</td>\n",
       "      <td>0.00000</td>\n",
       "      <td>0.0</td>\n",
       "      <td>0.464789</td>\n",
       "      <td>0.697052</td>\n",
       "      <td>0.030211</td>\n",
       "      <td>1</td>\n",
       "      <td>0</td>\n",
       "      <td>0.466810</td>\n",
       "      <td>0.856203</td>\n",
       "      <td>0.046717</td>\n",
       "      <td>0</td>\n",
       "    </tr>\n",
       "    <tr>\n",
       "      <th>32556</th>\n",
       "      <td>0.315068</td>\n",
       "      <td>0.285660</td>\n",
       "      <td>0.461538</td>\n",
       "      <td>0.00000</td>\n",
       "      <td>0.0</td>\n",
       "      <td>0.492958</td>\n",
       "      <td>0.697052</td>\n",
       "      <td>0.065176</td>\n",
       "      <td>1</td>\n",
       "      <td>1</td>\n",
       "      <td>0.466810</td>\n",
       "      <td>0.856203</td>\n",
       "      <td>0.413582</td>\n",
       "      <td>1</td>\n",
       "    </tr>\n",
       "    <tr>\n",
       "      <th>32557</th>\n",
       "      <td>0.561644</td>\n",
       "      <td>0.280654</td>\n",
       "      <td>0.461538</td>\n",
       "      <td>0.00000</td>\n",
       "      <td>0.0</td>\n",
       "      <td>0.492958</td>\n",
       "      <td>0.697052</td>\n",
       "      <td>0.122701</td>\n",
       "      <td>1</td>\n",
       "      <td>0</td>\n",
       "      <td>0.027346</td>\n",
       "      <td>0.856203</td>\n",
       "      <td>0.106488</td>\n",
       "      <td>0</td>\n",
       "    </tr>\n",
       "    <tr>\n",
       "      <th>32558</th>\n",
       "      <td>0.068493</td>\n",
       "      <td>0.381383</td>\n",
       "      <td>0.461538</td>\n",
       "      <td>0.00000</td>\n",
       "      <td>0.0</td>\n",
       "      <td>0.211268</td>\n",
       "      <td>0.697052</td>\n",
       "      <td>0.122701</td>\n",
       "      <td>1</td>\n",
       "      <td>1</td>\n",
       "      <td>0.322655</td>\n",
       "      <td>0.856203</td>\n",
       "      <td>0.147313</td>\n",
       "      <td>0</td>\n",
       "    </tr>\n",
       "    <tr>\n",
       "      <th>32559</th>\n",
       "      <td>0.479452</td>\n",
       "      <td>0.556993</td>\n",
       "      <td>0.461538</td>\n",
       "      <td>0.68167</td>\n",
       "      <td>0.0</td>\n",
       "      <td>0.492958</td>\n",
       "      <td>0.034275</td>\n",
       "      <td>0.132370</td>\n",
       "      <td>1</td>\n",
       "      <td>0</td>\n",
       "      <td>0.466810</td>\n",
       "      <td>0.856203</td>\n",
       "      <td>0.046717</td>\n",
       "      <td>1</td>\n",
       "    </tr>\n",
       "  </tbody>\n",
       "</table>\n",
       "<p>28213 rows × 14 columns</p>\n",
       "</div>"
      ],
      "text/plain": [
       "            Age    Fnlwgt  Education_num  Capital_gain  Capital_loss  \\\n",
       "0      0.452055  0.141285       0.769231       0.00000           0.0   \n",
       "1      0.287671  0.410143       0.461538       0.00000           0.0   \n",
       "2      0.493151  0.448897       0.307692       0.00000           0.0   \n",
       "3      0.150685  0.659555       0.769231       0.00000           0.0   \n",
       "4      0.273973  0.550197       0.846154       0.00000           0.0   \n",
       "...         ...       ...            ...           ...           ...   \n",
       "32555  0.136986  0.494774       0.692308       0.00000           0.0   \n",
       "32556  0.315068  0.285660       0.461538       0.00000           0.0   \n",
       "32557  0.561644  0.280654       0.461538       0.00000           0.0   \n",
       "32558  0.068493  0.381383       0.461538       0.00000           0.0   \n",
       "32559  0.479452  0.556993       0.461538       0.68167           0.0   \n",
       "\n",
       "       Hours_per_week  Workclass_enc  occupation_enc  Country_enc  Sex_enc  \\\n",
       "0            0.112676       0.078041        0.132370            1        1   \n",
       "1            0.492958       0.697052        0.044601            1        1   \n",
       "2            0.492958       0.697052        0.044601            1        1   \n",
       "3            0.492958       0.697052        0.134779            0        0   \n",
       "4            0.492958       0.697052        0.132370            1        0   \n",
       "...               ...            ...             ...          ...      ...   \n",
       "32555        0.464789       0.697052        0.030211            1        0   \n",
       "32556        0.492958       0.697052        0.065176            1        1   \n",
       "32557        0.492958       0.697052        0.122701            1        0   \n",
       "32558        0.211268       0.697052        0.122701            1        1   \n",
       "32559        0.492958       0.034275        0.132370            1        0   \n",
       "\n",
       "       marital_status_enc  race_enc  relationship_enc  Income  \n",
       "0                0.466810  0.856203          0.413582       0  \n",
       "1                0.138620  0.856203          0.256015       0  \n",
       "2                0.466810  0.094703          0.413582       0  \n",
       "3                0.466810  0.094703          0.046717       0  \n",
       "4                0.466810  0.856203          0.046717       0  \n",
       "...                   ...       ...               ...     ...  \n",
       "32555            0.466810  0.856203          0.046717       0  \n",
       "32556            0.466810  0.856203          0.413582       1  \n",
       "32557            0.027346  0.856203          0.106488       0  \n",
       "32558            0.322655  0.856203          0.147313       0  \n",
       "32559            0.466810  0.856203          0.046717       1  \n",
       "\n",
       "[28213 rows x 14 columns]"
      ]
     },
     "execution_count": 100,
     "metadata": {},
     "output_type": "execute_result"
    }
   ],
   "source": [
    "scale = MinMaxScaler()\n",
    "new_ds.loc[:,'Age':'Hours_per_week'] = scale.fit_transform(new_ds.loc[:,'Age':'Hours_per_week'])\n",
    "new_ds"
   ]
  },
  {
   "cell_type": "markdown",
   "metadata": {},
   "source": [
    "AS we can see from the above table that the data is now more normalised and can be used by the models for learning.\n",
    "![](https://kiarofoods.com/wp-content/uploads/2019/10/line_break.png)\n",
    "# Data Imbalance:\n",
    "If the data is imbalanced, it can cause the overfitting and bias in the odel prediction. So it is important to check and cure the data imbalance if present. We check the target variable to see if it is balanced or not."
   ]
  },
  {
   "cell_type": "code",
   "execution_count": 101,
   "metadata": {},
   "outputs": [
    {
     "data": {
      "image/png": "[encoded data removed]",
      "text/plain": [
       "<Figure size 800x400 with 1 Axes>"
      ]
     },
     "metadata": {},
     "output_type": "display_data"
    }
   ],
   "source": [
    "plt.figure(figsize = (8, 4))\n",
    "plt.title(\"Values distribution in target class: Income\")\n",
    "sns.countplot(data = new_ds, x = 'Income')\n",
    "plt.show()"
   ]
  },
  {
   "cell_type": "markdown",
   "metadata": {},
   "source": [
    "As we can see that data is imbalanced. In order **to remove the data imbalance, we use the SMOTETomek class to create synthetic values using KNN algorithm.**"
   ]
  },
  {
   "cell_type": "code",
   "execution_count": 102,
   "metadata": {},
   "outputs": [
    {
     "name": "stdout",
     "output_type": "stream",
     "text": [
      "(42268, 13) (42268,)\n"
     ]
    }
   ],
   "source": [
    "from imblearn.combine import SMOTETomek\n",
    "x = new_ds.loc[:,\"Age\":\"relationship_enc\"]\n",
    "y = new_ds.loc[:,\"Income\"]\n",
    "smk = SMOTETomek()\n",
    "x_new, y_new = smk.fit_resample(x, y)\n",
    "print(x_new.shape, y_new.shape)"
   ]
  },
  {
   "cell_type": "code",
   "execution_count": 103,
   "metadata": {},
   "outputs": [
    {
     "data": {
      "image/png": "[encoded data removed]",
      "text/plain": [
       "<Figure size 800x400 with 1 Axes>"
      ]
     },
     "metadata": {},
     "output_type": "display_data"
    }
   ],
   "source": [
    "plt.figure(figsize = (8, 4))\n",
    "plt.title(\"Values in target class after using SMOTETomek\")\n",
    "sns.countplot(x = y_new)\n",
    "plt.show()"
   ]
  },
  {
   "cell_type": "markdown",
   "metadata": {},
   "source": [
    "As we can see that we now have a balanced dataset, so we can model ahead with the model building part.\n",
    "![](https://kiarofoods.com/wp-content/uploads/2019/10/line_break.png)\n",
    "# Model Building:\n",
    "Starting with the spliting of the training and testing data. For that, we check to see what is the best random state."
   ]
  },
  {
   "cell_type": "code",
   "execution_count": 104,
   "metadata": {},
   "outputs": [
    {
     "name": "stdout",
     "output_type": "stream",
     "text": [
      "Best Random State is 36, 81.41313776516049\n"
     ]
    }
   ],
   "source": [
    "from sklearn.linear_model import LogisticRegression\n",
    "from sklearn.metrics import accuracy_score\n",
    "from sklearn.model_selection import train_test_split\n",
    "\n",
    "max_accuracy = 0\n",
    "best_rs = 0\n",
    "for i in range(1, 150):\n",
    "    x_train, x_test, y_train, y_test = train_test_split(x_new, y_new, test_size = 0.30, random_state = i)\n",
    "    lg = LogisticRegression()\n",
    "    lg.fit(x_train, y_train)\n",
    "    pred = lg.predict(x_test)\n",
    "    acc = accuracy_score(y_test, pred)\n",
    "    if acc > max_accuracy: # after each iteration, acc is replace by the best possible accuracy\n",
    "        max_accuracy = acc\n",
    "        best_rs = i\n",
    "print(f\"Best Random State is {best_rs}, {max_accuracy*100}\")"
   ]
  },
  {
   "cell_type": "markdown",
   "metadata": {},
   "source": [
    "Best posibble random state is 36, so using it to split the data"
   ]
  },
  {
   "cell_type": "code",
   "execution_count": 106,
   "metadata": {},
   "outputs": [
    {
     "name": "stdout",
     "output_type": "stream",
     "text": [
      "(29587, 13) (12681, 13) (29587,) (12681,)\n"
     ]
    }
   ],
   "source": [
    "x_train, x_test, y_train, y_test = train_test_split(x_new, y_new, test_size = 0.30, random_state = 36)\n",
    "print(x_train.shape, x_test.shape, y_train.shape, y_test.shape)"
   ]
  },
  {
   "cell_type": "code",
   "execution_count": 107,
   "metadata": {},
   "outputs": [],
   "source": [
    "from sklearn.linear_model import LogisticRegression\n",
    "from sklearn.ensemble import RandomForestClassifier\n",
    "from sklearn.tree import DecisionTreeClassifier\n",
    "from sklearn.ensemble import AdaBoostClassifier\n",
    "from sklearn.naive_bayes import MultinomialNB\n",
    "from sklearn.neighbors import KNeighborsClassifier\n",
    "from sklearn.svm import SVC"
   ]
  },
  {
   "cell_type": "code",
   "execution_count": 108,
   "metadata": {},
   "outputs": [
    {
     "name": "stdout",
     "output_type": "stream",
     "text": [
      "Accuracy Score of Logistic Regression model is 81.41313776516049\n",
      "Accuracy Score of Decision Tree Classifier model is 86.53103067581421\n",
      "Accuracy Score of K-Nearest Neighbour Classifier model is 86.0499960570933\n",
      "Accuracy Score of Support Vector Classifier model is 82.65121047236022\n",
      "Accuracy Score of Random Forest model is 91.01805851273559\n",
      "Accuracy Score of MultinomialNB model is 65.97271508556108\n",
      "Accuracy Score of ADA Boost model is 85.74244933364876\n"
     ]
    }
   ],
   "source": [
    "# For Logistic Regression\n",
    "lg = LogisticRegression()\n",
    "lg.fit(x_train, y_train)\n",
    "pred_lg = lg.predict(x_test)\n",
    "print(\"Accuracy Score of Logistic Regression model is\", accuracy_score(y_test, pred_lg)*100)\n",
    "\n",
    "# For Decision Tree Classifier\n",
    "dtc = DecisionTreeClassifier()\n",
    "dtc.fit(x_train, y_train)\n",
    "pred_dtc = dtc.predict(x_test)\n",
    "print(\"Accuracy Score of Decision Tree Classifier model is\", accuracy_score(y_test, pred_dtc)*100)\n",
    "\n",
    "# For K-Nearest Neighbour Classifier\n",
    "knc = KNeighborsClassifier(n_neighbors = 5)\n",
    "knc.fit(x_train, y_train)\n",
    "pred_knc = knc.predict(x_test)\n",
    "print(\"Accuracy Score of K-Nearest Neighbour Classifier model is\", accuracy_score(y_test, pred_knc)*100)\n",
    "\n",
    "# For Support Vector Classifier\n",
    "svc = SVC(kernel = 'rbf')\n",
    "svc.fit(x_train, y_train)\n",
    "pred_svc = svc.predict(x_test)\n",
    "print(\"Accuracy Score of Support Vector Classifier model is\", accuracy_score(y_test, pred_svc)*100)\n",
    "\n",
    "# For Random Forest Classifier\n",
    "rfc = RandomForestClassifier()\n",
    "rfc.fit(x_train, y_train)\n",
    "pred_rfc = rfc.predict(x_test)\n",
    "print(\"Accuracy Score of Random Forest model is\", accuracy_score(y_test, pred_rfc)*100)\n",
    "\n",
    "# For MultinomialNB\n",
    "nb = MultinomialNB() # making the Multinomial Naive Bayes class\n",
    "nb.fit(x_train, y_train) # fitting the model\n",
    "pred_nb = nb.predict(x_test) # predicting the values\n",
    "print(\"Accuracy Score of MultinomialNB model is\", accuracy_score(y_test, pred_nb)*100)\n",
    "\n",
    "# For ADA Boost Classifier\n",
    "ada= AdaBoostClassifier()\n",
    "ada.fit(x_train, y_train) # fitting the model\n",
    "pred_ada = ada.predict(x_test) # predicting the values\n",
    "print(\"Accuracy Score of ADA Boost model is\", accuracy_score(y_test, pred_ada)*100)"
   ]
  },
  {
   "cell_type": "markdown",
   "metadata": {},
   "source": [
    "Best accuracy score is given by Random Forest Classifier model. In order to avoid the bias and overfitting or underfitting, we cross validate the models and check the mean accuracy score of them."
   ]
  },
  {
   "cell_type": "code",
   "execution_count": 109,
   "metadata": {},
   "outputs": [
    {
     "name": "stdout",
     "output_type": "stream",
     "text": [
      "[0.79938491 0.80600899 0.8123965  0.80506269 0.79843861 0.80742844\n",
      " 0.81689141 0.81452567 0.81140558 0.80667298]\n",
      "Mean of accuracy scores is for Logistic Regression is 80.78215774440807\n",
      "\n",
      "[0.76933996 0.76910338 0.79323397 0.90324107 0.91294062 0.91270405\n",
      " 0.90749941 0.91317719 0.91268339 0.90724089]\n",
      "Mean of accuracy scores is for Decision Tree Classifier is 87.01163928147216\n",
      "\n",
      "[0.85639934 0.85356044 0.8604211  0.87390584 0.86751833 0.87319612\n",
      " 0.87863733 0.87579844 0.87292948 0.87837198]\n",
      "Mean of accuracy scores is for KNN Classifier is 86.90738420030071\n",
      "\n",
      "[0.82422522 0.82942986 0.82659096 0.82446179 0.81902058 0.82966643\n",
      " 0.83534422 0.83250532 0.82820634 0.83104591]\n",
      "Mean of accuracy scores is for SVC Classifier is 82.8049662934658\n",
      "\n",
      "[0.82493494 0.8317956  0.84599006 0.93849066 0.94724391 0.94061982\n",
      " 0.95079252 0.94937308 0.94249882 0.94320871]\n",
      "Mean of accuracy scores is for Random Forest Classifier is 91.14948121013684\n",
      "\n",
      "[0.64182635 0.65010646 0.66122546 0.64963331 0.64442867 0.64774071\n",
      " 0.65081618 0.65223563 0.64529106 0.66469475]\n",
      "Mean of accuracy scores is for MultinomialNB is 65.07998577194742\n",
      "\n",
      "[0.81499882 0.81263307 0.8317956  0.86751833 0.86207712 0.86680861\n",
      " 0.87603501 0.86822806 0.8715097  0.86251775]\n",
      "Mean of accuracy scores is for ADA Boost Classifier is 85.34122078885528\n",
      "\n"
     ]
    }
   ],
   "source": [
    "from sklearn.model_selection import cross_val_score\n",
    "\n",
    "lg_scores = cross_val_score(lg, x_new, y_new, cv = 10) # cross validating the model\n",
    "print(lg_scores) # accuracy scores of each cross validation cycle\n",
    "print(f\"Mean of accuracy scores is for Logistic Regression is {lg_scores.mean()*100}\\n\")\n",
    "\n",
    "dtc_scores = cross_val_score(dtc, x_new, y_new, cv = 10)\n",
    "print(dtc_scores)\n",
    "print(f\"Mean of accuracy scores is for Decision Tree Classifier is {dtc_scores.mean()*100}\\n\")\n",
    "\n",
    "knc_scores = cross_val_score(knc, x_new, y_new, cv = 10)\n",
    "print(knc_scores)\n",
    "print(f\"Mean of accuracy scores is for KNN Classifier is {knc_scores.mean()*100}\\n\")\n",
    "\n",
    "svc_scores = cross_val_score(svc, x_new, y_new, cv = 10)\n",
    "print(svc_scores)\n",
    "print(f\"Mean of accuracy scores is for SVC Classifier is {svc_scores.mean()*100}\\n\")\n",
    "\n",
    "rfc_scores = cross_val_score(rfc, x_new, y_new, cv = 10)\n",
    "print(rfc_scores)\n",
    "print(f\"Mean of accuracy scores is for Random Forest Classifier is {rfc_scores.mean()*100}\\n\")\n",
    "\n",
    "nb_scores = cross_val_score(nb, x_new, y_new, cv = 10)\n",
    "print(nb_scores)\n",
    "print(f\"Mean of accuracy scores is for MultinomialNB is {nb_scores.mean()*100}\\n\")\n",
    "\n",
    "ada_scores = cross_val_score(ada, x_new, y_new, cv = 10)\n",
    "print(ada_scores)\n",
    "print(f\"Mean of accuracy scores is for ADA Boost Classifier is {ada_scores.mean()*100}\\n\")"
   ]
  },
  {
   "cell_type": "code",
   "execution_count": 110,
   "metadata": {},
   "outputs": [
    {
     "name": "stdout",
     "output_type": "stream",
     "text": [
      "Logistic Regression 0.6309800207524177\n",
      "Decision Tree Classifier -0.48060860565794883\n",
      "KNeighbors Classifier -0.857388143207416\n",
      "SVC -0.15375582110557673\n",
      "Random Forest Classifier -0.13142269740124846\n",
      "MultinomialNB 0.8927293136136569\n",
      "ADA Boost Classifier 0.4012285447934829\n"
     ]
    }
   ],
   "source": [
    "# Checking for difference between accuracy and mean accuracies.\n",
    "lis3 = ['Logistic Regression','Decision Tree Classifier','KNeighbors Classifier','SVC', 'Random Forest Classifier', \n",
    "        'MultinomialNB', 'ADA Boost Classifier']\n",
    "\n",
    "lis1 = [accuracy_score(y_test, pred_lg)*100, accuracy_score(y_test, pred_dtc)*100, accuracy_score(y_test, pred_knc)*100, \n",
    "        accuracy_score(y_test, pred_svc)*100, accuracy_score(y_test, pred_rfc)*100, accuracy_score(y_test, pred_nb)*100,\n",
    "        accuracy_score(y_test, pred_ada)*100]\n",
    "\n",
    "lis2 = [lg_scores.mean()*100, dtc_scores.mean()*100, knc_scores.mean()*100, svc_scores.mean()*100, rfc_scores.mean()*100, \n",
    "        nb_scores.mean()*100, ada_scores.mean()*100]\n",
    "\n",
    "for i in range(0, 7):\n",
    "    dif = (lis1[i]) - (lis2[i])\n",
    "    print(lis3[i], dif)"
   ]
  },
  {
   "cell_type": "markdown",
   "metadata": {},
   "source": [
    "**Random forest classifier is the best model with highest cross validation mean score and accuracy score**. We will use it for the model building.\n",
    "## Hyperparameter Tuning:\n",
    "Tuning the parameters of the Random Forest in order to obtain the best possible parameters for model building."
   ]
  },
  {
   "cell_type": "code",
   "execution_count": 111,
   "metadata": {},
   "outputs": [],
   "source": [
    "from sklearn.model_selection import GridSearchCV"
   ]
  },
  {
   "cell_type": "code",
   "execution_count": 112,
   "metadata": {},
   "outputs": [
    {
     "name": "stdout",
     "output_type": "stream",
     "text": [
      "0.9050427672156447\n",
      "{'criterion': 'entropy', 'min_samples_split': 2, 'n_estimators': 200}\n"
     ]
    }
   ],
   "source": [
    "rfc = RandomForestClassifier()\n",
    "param = dict()\n",
    "param['criterion'] = ['gini', 'entropy']\n",
    "param['n_estimators'] = [1, 2, 4, 8, 10, 16, 32, 64, 100, 200]\n",
    "param['min_samples_split'] = [1,2,5,8,10,15,20,25,50,55,60,80,100]\n",
    "\n",
    "\n",
    "gs = GridSearchCV(estimator = rfc, param_grid = param, scoring='f1', cv = 5, n_jobs = 3)\n",
    "gs.fit(x_train, y_train)\n",
    "print(gs.best_score_)\n",
    "print(gs.best_params_)"
   ]
  },
  {
   "cell_type": "markdown",
   "metadata": {},
   "source": [
    "After the hyperparameter tuning, **the best parameters for Random Forest Classifier are 'crietrion' = 'entropy', 'min_samples_split' = 2, 'n_estimators' = 200**"
   ]
  },
  {
   "cell_type": "code",
   "execution_count": 113,
   "metadata": {},
   "outputs": [
    {
     "name": "stdout",
     "output_type": "stream",
     "text": [
      "1.0\n"
     ]
    }
   ],
   "source": [
    "rfc = RandomForestClassifier(criterion = 'entropy', min_samples_split = 2, n_estimators = 200)\n",
    "rfc.fit(x_train, y_train)\n",
    "print(rfc.score(x_train, y_train))\n",
    "pred_rfc = rfc.predict(x_test)"
   ]
  },
  {
   "cell_type": "markdown",
   "metadata": {},
   "source": [
    "![](https://kiarofoods.com/wp-content/uploads/2019/10/line_break.png)\n",
    "# Model Evaluation:\n",
    "We have build the model after the cross validation and hyper parameter tuning. It is now time to evaluate the model using the classification report, confusion matrix and ROC curve."
   ]
  },
  {
   "cell_type": "code",
   "execution_count": 114,
   "metadata": {},
   "outputs": [],
   "source": [
    "from sklearn.metrics import plot_roc_curve\n",
    "from sklearn.metrics import confusion_matrix, classification_report"
   ]
  },
  {
   "cell_type": "code",
   "execution_count": 115,
   "metadata": {},
   "outputs": [
    {
     "name": "stdout",
     "output_type": "stream",
     "text": [
      "Accuracy Score of RFC model is 91.2073180348553\n",
      "Confusion matrix for RFC Model is\n",
      "[[5780  596]\n",
      " [ 519 5786]]\n",
      "Classification Report of the RFC Model is\n",
      "              precision    recall  f1-score   support\n",
      "\n",
      "           0       0.92      0.91      0.91      6376\n",
      "           1       0.91      0.92      0.91      6305\n",
      "\n",
      "    accuracy                           0.91     12681\n",
      "   macro avg       0.91      0.91      0.91     12681\n",
      "weighted avg       0.91      0.91      0.91     12681\n",
      "\n"
     ]
    },
    {
     "data": {
      "image/png": "[encoded data removed]",
      "text/plain": [
       "<Figure size 640x480 with 1 Axes>"
      ]
     },
     "metadata": {},
     "output_type": "display_data"
    }
   ],
   "source": [
    "print(\"Accuracy Score of RFC model is\", accuracy_score(y_test, pred_rfc)*100)\n",
    "print(\"Confusion matrix for RFC Model is\")\n",
    "print(confusion_matrix(y_test, pred_rfc))\n",
    "print(\"Classification Report of the RFC Model is\")\n",
    "print(classification_report(y_test, pred_rfc))\n",
    "\n",
    "plot_roc_curve(rfc, x_test, y_test) # arg. are model name, feature testing data, label testing data.\n",
    "plt.title(\"Recevier's Operating Characteristic\")\n",
    "plt.xlabel(\"False Positive Rate\")\n",
    "plt.ylabel(\"True Positive Rate\")\n",
    "plt.show()"
   ]
  },
  {
   "cell_type": "markdown",
   "metadata": {},
   "source": [
    "After the model evaluation , we get the **precision and recall for both the target variable as 0.92 and 0.91**. The **f1- score of the model is 0.91**. The ROC curve gave us **the AUC score which is 0.97**. Model evaluation gives the results that ***the prediction is very accurate.***\n",
    "![](https://miro.medium.com/max/2400/1*IH10jlQEJ7GW1_oq8s7WPw.png)\n",
    "# Serialisation:\n",
    "Now we save the Random Forest Classifier Model as an object using joblib."
   ]
  },
  {
   "cell_type": "code",
   "execution_count": 116,
   "metadata": {},
   "outputs": [
    {
     "data": {
      "text/plain": [
       "['Census Income Prediction.obj']"
      ]
     },
     "execution_count": 116,
     "metadata": {},
     "output_type": "execute_result"
    }
   ],
   "source": [
    "import joblib\n",
    "joblib.dump(rfc, 'Census Income Prediction.obj') # saving the model as an object"
   ]
  }
 ],
 "metadata": {
  "kernelspec": {
   "display_name": "Python 3",
   "language": "python",
   "name": "python3"
  },
  "language_info": {
   "codemirror_mode": {
    "name": "ipython",
    "version": 3
   },
   "file_extension": ".py",
   "mimetype": "text/x-python",
   "name": "python",
   "nbconvert_exporter": "python",
   "pygments_lexer": "ipython3",
   "version": "3.8.5"
  }
 },
 "nbformat": 4,
 "nbformat_minor": 4
}
